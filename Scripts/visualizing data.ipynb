{
 "cells": [
  {
   "cell_type": "markdown",
   "id": "04896098",
   "metadata": {},
   "source": [
    "# Table of contents\n",
    "\n",
    "### 1. Importing libraries\n",
    "### 2. Importing data\n",
    "### 3. Considering security implications\n",
    "### 4. Creating regional segmentation of the data\n",
    "### 5. Creating exclusion flag for low revenue customers\n",
    "### 6. Creating new profiling variable for customers\n",
    "### 7. Creating visualization to show profile distribution\n",
    "### 8. Aggregating customer-profile for usage frequency and expenditure\n",
    "### 9. Compare your customer profiles with regions and departments\n",
    "### 10. Producing and exporting charts\n",
    "### 11. Exporting dataset"
   ]
  },
  {
   "cell_type": "markdown",
   "id": "22ae98bb",
   "metadata": {},
   "source": [
    "# 1. Importing libraries"
   ]
  },
  {
   "cell_type": "code",
   "execution_count": 1,
   "id": "7738e602",
   "metadata": {},
   "outputs": [],
   "source": [
    "import pandas as pd\n",
    "import numpy as np\n",
    "import os\n",
    "import matplotlib.pyplot as plt\n",
    "import seaborn as sns\n",
    "import scipy"
   ]
  },
  {
   "cell_type": "markdown",
   "id": "c887301c",
   "metadata": {},
   "source": [
    "# 2. Importing data"
   ]
  },
  {
   "cell_type": "code",
   "execution_count": 2,
   "id": "6425bd91",
   "metadata": {},
   "outputs": [],
   "source": [
    "# Set path to project folder\n",
    "\n",
    "path = r'/Users/tknoepfli/Documents/CareerFoundry/Instacart Basket Analysis'"
   ]
  },
  {
   "cell_type": "code",
   "execution_count": 3,
   "id": "5d4acefe",
   "metadata": {},
   "outputs": [],
   "source": [
    "# Import dataframe\n",
    "\n",
    "df = pd.read_pickle(os.path.join(path, '02 Data', 'Prepared Data', 'ords_prods_cust_merged.pkl'))"
   ]
  },
  {
   "cell_type": "code",
   "execution_count": 4,
   "id": "801ddcff",
   "metadata": {},
   "outputs": [
    {
     "data": {
      "text/plain": [
       "(32429362, 33)"
      ]
     },
     "execution_count": 4,
     "metadata": {},
     "output_type": "execute_result"
    }
   ],
   "source": [
    "# Check shape of dataframe\n",
    "\n",
    "df.shape"
   ]
  },
  {
   "cell_type": "code",
   "execution_count": 5,
   "id": "50b6cc64",
   "metadata": {},
   "outputs": [],
   "source": [
    "# Change settings to display all columns in dataframe\n",
    "\n",
    "pd.set_option('display.max_columns', None)"
   ]
  },
  {
   "cell_type": "code",
   "execution_count": null,
   "id": "478ed8ba",
   "metadata": {
    "scrolled": true
   },
   "outputs": [],
   "source": [
    "# Display head of all dataframe columns\n",
    "\n",
    "df.head()"
   ]
  },
  {
   "cell_type": "code",
   "execution_count": 7,
   "id": "81664b7b",
   "metadata": {},
   "outputs": [],
   "source": [
    "# Adding column \"department\" based on \"department_id\" for analyses below\n",
    "\n",
    "df_depts = pd.read_csv(os.path.join(path, '02 Data', 'Prepared Data', 'departments_wrangled.csv'), index_col = False)\n",
    "df_depts.rename(columns = {'Unnamed: 0' : 'department_id'}, inplace = True)\n",
    "data_dict = dict(zip(df_depts.department_id, df_depts.department))\n",
    "df['department_name'] = df['department_id'].map(data_dict)"
   ]
  },
  {
   "cell_type": "markdown",
   "id": "025787f1",
   "metadata": {},
   "source": [
    "# 3. Considering security implications for this data"
   ]
  },
  {
   "cell_type": "markdown",
   "id": "d98ab4b8",
   "metadata": {},
   "source": [
    "The first_name and last_name columns in this dataset contain personally identifiable information (PII). In a real world scenario, I would reach out to the client to discuss the way forward in handling this data. For the sake of this exercise, I will drop both columns to make sure that the dataframe does not contain any PII."
   ]
  },
  {
   "cell_type": "code",
   "execution_count": 8,
   "id": "19459bad",
   "metadata": {},
   "outputs": [],
   "source": [
    "# Drop \"first_name\" and \"last_name\" columns from dataframe\n",
    "\n",
    "df.drop(columns = ['first_name', 'last_name'], inplace = True)"
   ]
  },
  {
   "cell_type": "markdown",
   "id": "67c753d8",
   "metadata": {},
   "source": [
    "# 4. Creating regional segmentation of the data"
   ]
  },
  {
   "cell_type": "code",
   "execution_count": 9,
   "id": "5468d6bc",
   "metadata": {},
   "outputs": [],
   "source": [
    "# Create list of US regions\n",
    "\n",
    "northeast = 'Maine', 'New Hampshire', 'Vermont', 'Massachusetts', 'Rhode Island', 'Connecticut', 'New York', 'Pennsylvania', 'New Jersey'\n",
    "midwest = 'Wisconsin', 'Michigan', 'Illinois', 'Indiana', 'Ohio', 'North Dakota', 'South Dakota','Nebraska', 'Kansas', 'Minnesota', 'Iowa', 'Missouri'\n",
    "south = 'Delaware', 'Maryland', 'District of Columbia', 'Virginia', 'West Virginia', 'North Carolina', 'South Carolina', 'Georgia', 'Florida', 'Kentucky', 'Tennessee', 'Mississippi', 'Alabama', 'Oklahoma', 'Texas', 'Arkansas', 'Louisiana'\n",
    "west = 'Idaho', 'Montana', 'Wyoming', 'Nevada', 'Utah', 'Colorado', 'Arizona', 'New Mexico', 'Alaska', 'Washington', 'Oregon', 'California', 'Hawaii'"
   ]
  },
  {
   "cell_type": "code",
   "execution_count": 10,
   "id": "017f1402",
   "metadata": {},
   "outputs": [],
   "source": [
    "# Create new \"region\" column based on \"state\"\n",
    "\n",
    "df.loc[df['state'].isin(northeast), 'region'] = 'Northeast'\n",
    "df.loc[df['state'].isin(midwest), 'region'] = 'Midwest'\n",
    "df.loc[df['state'].isin(south), 'region'] = 'South'\n",
    "df.loc[df['state'].isin(west), 'region'] = 'West'"
   ]
  },
  {
   "cell_type": "code",
   "execution_count": 11,
   "id": "f8e9382b",
   "metadata": {},
   "outputs": [
    {
     "data": {
      "text/plain": [
       "South        10800007\n",
       "West          8299247\n",
       "Midwest       7602601\n",
       "Northeast     5727507\n",
       "Name: region, dtype: int64"
      ]
     },
     "execution_count": 11,
     "metadata": {},
     "output_type": "execute_result"
    }
   ],
   "source": [
    "# Check new column for NaN values\n",
    "\n",
    "df['region'].value_counts(dropna = False)"
   ]
  },
  {
   "cell_type": "code",
   "execution_count": 12,
   "id": "4a9c5c42",
   "metadata": {},
   "outputs": [
    {
     "data": {
      "text/plain": [
       "region\n",
       "Midwest      Low spender\n",
       "Northeast    Low spender\n",
       "South        Low spender\n",
       "West         Low spender\n",
       "Name: spending_flag, dtype: object"
      ]
     },
     "execution_count": 12,
     "metadata": {},
     "output_type": "execute_result"
    }
   ],
   "source": [
    "# Check spending per region\n",
    "\n",
    "df.groupby(['region'])['spending_flag'].agg(pd.Series.mode)"
   ]
  },
  {
   "cell_type": "markdown",
   "id": "38ef6832",
   "metadata": {},
   "source": [
    "All regions have a majority of low spenders. A crosstab is useful to take a closer look."
   ]
  },
  {
   "cell_type": "code",
   "execution_count": 13,
   "id": "d2528318",
   "metadata": {},
   "outputs": [
    {
     "data": {
      "text/html": [
       "<div>\n",
       "<style scoped>\n",
       "    .dataframe tbody tr th:only-of-type {\n",
       "        vertical-align: middle;\n",
       "    }\n",
       "\n",
       "    .dataframe tbody tr th {\n",
       "        vertical-align: top;\n",
       "    }\n",
       "\n",
       "    .dataframe thead th {\n",
       "        text-align: right;\n",
       "    }\n",
       "</style>\n",
       "<table border=\"1\" class=\"dataframe\">\n",
       "  <thead>\n",
       "    <tr style=\"text-align: right;\">\n",
       "      <th>spending_flag</th>\n",
       "      <th>High spender</th>\n",
       "      <th>Low spender</th>\n",
       "    </tr>\n",
       "    <tr>\n",
       "      <th>region</th>\n",
       "      <th></th>\n",
       "      <th></th>\n",
       "    </tr>\n",
       "  </thead>\n",
       "  <tbody>\n",
       "    <tr>\n",
       "      <th>Midwest</th>\n",
       "      <td>29298</td>\n",
       "      <td>7573303</td>\n",
       "    </tr>\n",
       "    <tr>\n",
       "      <th>Northeast</th>\n",
       "      <td>18659</td>\n",
       "      <td>5708848</td>\n",
       "    </tr>\n",
       "    <tr>\n",
       "      <th>South</th>\n",
       "      <td>40641</td>\n",
       "      <td>10759366</td>\n",
       "    </tr>\n",
       "    <tr>\n",
       "      <th>West</th>\n",
       "      <td>31271</td>\n",
       "      <td>8267976</td>\n",
       "    </tr>\n",
       "  </tbody>\n",
       "</table>\n",
       "</div>"
      ],
      "text/plain": [
       "spending_flag  High spender  Low spender\n",
       "region                                  \n",
       "Midwest               29298      7573303\n",
       "Northeast             18659      5708848\n",
       "South                 40641     10759366\n",
       "West                  31271      8267976"
      ]
     },
     "execution_count": 13,
     "metadata": {},
     "output_type": "execute_result"
    }
   ],
   "source": [
    "# Create crosstab to compare spending per region\n",
    "\n",
    "pd.crosstab(df['region'], df['spending_flag'], dropna = False)"
   ]
  },
  {
   "cell_type": "code",
   "execution_count": 14,
   "id": "14fa4c5c",
   "metadata": {},
   "outputs": [
    {
     "data": {
      "text/html": [
       "<div>\n",
       "<style scoped>\n",
       "    .dataframe tbody tr th:only-of-type {\n",
       "        vertical-align: middle;\n",
       "    }\n",
       "\n",
       "    .dataframe tbody tr th {\n",
       "        vertical-align: top;\n",
       "    }\n",
       "\n",
       "    .dataframe thead th {\n",
       "        text-align: right;\n",
       "    }\n",
       "</style>\n",
       "<table border=\"1\" class=\"dataframe\">\n",
       "  <thead>\n",
       "    <tr style=\"text-align: right;\">\n",
       "      <th>spending_flag</th>\n",
       "      <th>High spender</th>\n",
       "      <th>Low spender</th>\n",
       "    </tr>\n",
       "    <tr>\n",
       "      <th>region</th>\n",
       "      <th></th>\n",
       "      <th></th>\n",
       "    </tr>\n",
       "  </thead>\n",
       "  <tbody>\n",
       "    <tr>\n",
       "      <th>Midwest</th>\n",
       "      <td>0.003854</td>\n",
       "      <td>0.996146</td>\n",
       "    </tr>\n",
       "    <tr>\n",
       "      <th>Northeast</th>\n",
       "      <td>0.003258</td>\n",
       "      <td>0.996742</td>\n",
       "    </tr>\n",
       "    <tr>\n",
       "      <th>South</th>\n",
       "      <td>0.003763</td>\n",
       "      <td>0.996237</td>\n",
       "    </tr>\n",
       "    <tr>\n",
       "      <th>West</th>\n",
       "      <td>0.003768</td>\n",
       "      <td>0.996232</td>\n",
       "    </tr>\n",
       "  </tbody>\n",
       "</table>\n",
       "</div>"
      ],
      "text/plain": [
       "spending_flag  High spender  Low spender\n",
       "region                                  \n",
       "Midwest            0.003854     0.996146\n",
       "Northeast          0.003258     0.996742\n",
       "South              0.003763     0.996237\n",
       "West               0.003768     0.996232"
      ]
     },
     "execution_count": 14,
     "metadata": {},
     "output_type": "execute_result"
    }
   ],
   "source": [
    "# Display crosstab in percentages\n",
    "\n",
    "pd.crosstab(df['region'], df['spending_flag']).apply(lambda r: r/r.sum(), axis=1)"
   ]
  },
  {
   "cell_type": "markdown",
   "id": "a6e4f840",
   "metadata": {},
   "source": [
    "The spending habits do not vary dramatically by region. The South is the biggest market and thus has the highest absolute number of high spenders, however the Midwest has the highest percentage of high spenders."
   ]
  },
  {
   "cell_type": "markdown",
   "id": "67062b22",
   "metadata": {},
   "source": [
    "# 5. Creating exclusion flag for low revenue customers"
   ]
  },
  {
   "cell_type": "code",
   "execution_count": 15,
   "id": "be7d5bf3",
   "metadata": {},
   "outputs": [],
   "source": [
    "# Create exclusion flag for customers with less than five orders\n",
    "\n",
    "df.loc[df['max_order'] < 5, 'exclusion_flag'] = 'exclude'\n",
    "df.loc[df['max_order'] >= 5, 'exclusion_flag'] = 'include'"
   ]
  },
  {
   "cell_type": "code",
   "execution_count": 16,
   "id": "3c293c37",
   "metadata": {},
   "outputs": [
    {
     "data": {
      "text/plain": [
       "include    30988089\n",
       "exclude     1441273\n",
       "Name: exclusion_flag, dtype: int64"
      ]
     },
     "execution_count": 16,
     "metadata": {},
     "output_type": "execute_result"
    }
   ],
   "source": [
    "df['exclusion_flag'].value_counts(dropna = False)"
   ]
  },
  {
   "cell_type": "code",
   "execution_count": 17,
   "id": "bb4738db",
   "metadata": {},
   "outputs": [
    {
     "data": {
      "text/html": [
       "<div>\n",
       "<style scoped>\n",
       "    .dataframe tbody tr th:only-of-type {\n",
       "        vertical-align: middle;\n",
       "    }\n",
       "\n",
       "    .dataframe tbody tr th {\n",
       "        vertical-align: top;\n",
       "    }\n",
       "\n",
       "    .dataframe thead th {\n",
       "        text-align: right;\n",
       "    }\n",
       "</style>\n",
       "<table border=\"1\" class=\"dataframe\">\n",
       "  <thead>\n",
       "    <tr style=\"text-align: right;\">\n",
       "      <th></th>\n",
       "      <th>order_id</th>\n",
       "      <th>user_id</th>\n",
       "      <th>order_number</th>\n",
       "      <th>order_day_of_week</th>\n",
       "      <th>order_hour_of_day</th>\n",
       "      <th>days_since_prior_order</th>\n",
       "      <th>product_id</th>\n",
       "      <th>add_to_cart_order</th>\n",
       "      <th>reordered</th>\n",
       "      <th>product_name</th>\n",
       "      <th>aisle_id</th>\n",
       "      <th>department_id</th>\n",
       "      <th>prices</th>\n",
       "      <th>price_range_loc</th>\n",
       "      <th>busiest_day</th>\n",
       "      <th>busiest_day_2</th>\n",
       "      <th>busiest_period_of_day</th>\n",
       "      <th>max_order</th>\n",
       "      <th>loyalty_flag</th>\n",
       "      <th>spender_type</th>\n",
       "      <th>spending_flag</th>\n",
       "      <th>median_order_frequency</th>\n",
       "      <th>customer_frequency_flag</th>\n",
       "      <th>gender</th>\n",
       "      <th>state</th>\n",
       "      <th>age</th>\n",
       "      <th>date_joined</th>\n",
       "      <th>number_of_dependents</th>\n",
       "      <th>marital_status</th>\n",
       "      <th>income</th>\n",
       "      <th>merge</th>\n",
       "      <th>department_name</th>\n",
       "      <th>region</th>\n",
       "      <th>exclusion_flag</th>\n",
       "    </tr>\n",
       "  </thead>\n",
       "  <tbody>\n",
       "    <tr>\n",
       "      <th>0</th>\n",
       "      <td>2539329</td>\n",
       "      <td>1</td>\n",
       "      <td>1</td>\n",
       "      <td>2</td>\n",
       "      <td>8</td>\n",
       "      <td>NaN</td>\n",
       "      <td>196</td>\n",
       "      <td>1</td>\n",
       "      <td>0</td>\n",
       "      <td>Soda</td>\n",
       "      <td>77.0</td>\n",
       "      <td>7.0</td>\n",
       "      <td>9.0</td>\n",
       "      <td>Mid range product</td>\n",
       "      <td>Regularly busy</td>\n",
       "      <td>Regular days</td>\n",
       "      <td>Average orders</td>\n",
       "      <td>10</td>\n",
       "      <td>New customer</td>\n",
       "      <td>6.367797</td>\n",
       "      <td>Low spender</td>\n",
       "      <td>20.5</td>\n",
       "      <td>Non-frequent customer</td>\n",
       "      <td>Female</td>\n",
       "      <td>Alabama</td>\n",
       "      <td>31</td>\n",
       "      <td>2/17/2019</td>\n",
       "      <td>3</td>\n",
       "      <td>married</td>\n",
       "      <td>40423</td>\n",
       "      <td>both</td>\n",
       "      <td>beverages</td>\n",
       "      <td>South</td>\n",
       "      <td>include</td>\n",
       "    </tr>\n",
       "    <tr>\n",
       "      <th>1</th>\n",
       "      <td>2539329</td>\n",
       "      <td>1</td>\n",
       "      <td>1</td>\n",
       "      <td>2</td>\n",
       "      <td>8</td>\n",
       "      <td>NaN</td>\n",
       "      <td>14084</td>\n",
       "      <td>2</td>\n",
       "      <td>0</td>\n",
       "      <td>Organic Unsweetened Vanilla Almond Milk</td>\n",
       "      <td>91.0</td>\n",
       "      <td>16.0</td>\n",
       "      <td>12.5</td>\n",
       "      <td>Mid range product</td>\n",
       "      <td>Regularly busy</td>\n",
       "      <td>Regular days</td>\n",
       "      <td>Average orders</td>\n",
       "      <td>10</td>\n",
       "      <td>New customer</td>\n",
       "      <td>6.367797</td>\n",
       "      <td>Low spender</td>\n",
       "      <td>20.5</td>\n",
       "      <td>Non-frequent customer</td>\n",
       "      <td>Female</td>\n",
       "      <td>Alabama</td>\n",
       "      <td>31</td>\n",
       "      <td>2/17/2019</td>\n",
       "      <td>3</td>\n",
       "      <td>married</td>\n",
       "      <td>40423</td>\n",
       "      <td>both</td>\n",
       "      <td>dairy eggs</td>\n",
       "      <td>South</td>\n",
       "      <td>include</td>\n",
       "    </tr>\n",
       "    <tr>\n",
       "      <th>2</th>\n",
       "      <td>2539329</td>\n",
       "      <td>1</td>\n",
       "      <td>1</td>\n",
       "      <td>2</td>\n",
       "      <td>8</td>\n",
       "      <td>NaN</td>\n",
       "      <td>12427</td>\n",
       "      <td>3</td>\n",
       "      <td>0</td>\n",
       "      <td>Original Beef Jerky</td>\n",
       "      <td>23.0</td>\n",
       "      <td>19.0</td>\n",
       "      <td>4.4</td>\n",
       "      <td>Low range product</td>\n",
       "      <td>Regularly busy</td>\n",
       "      <td>Regular days</td>\n",
       "      <td>Average orders</td>\n",
       "      <td>10</td>\n",
       "      <td>New customer</td>\n",
       "      <td>6.367797</td>\n",
       "      <td>Low spender</td>\n",
       "      <td>20.5</td>\n",
       "      <td>Non-frequent customer</td>\n",
       "      <td>Female</td>\n",
       "      <td>Alabama</td>\n",
       "      <td>31</td>\n",
       "      <td>2/17/2019</td>\n",
       "      <td>3</td>\n",
       "      <td>married</td>\n",
       "      <td>40423</td>\n",
       "      <td>both</td>\n",
       "      <td>snacks</td>\n",
       "      <td>South</td>\n",
       "      <td>include</td>\n",
       "    </tr>\n",
       "    <tr>\n",
       "      <th>3</th>\n",
       "      <td>2539329</td>\n",
       "      <td>1</td>\n",
       "      <td>1</td>\n",
       "      <td>2</td>\n",
       "      <td>8</td>\n",
       "      <td>NaN</td>\n",
       "      <td>26088</td>\n",
       "      <td>4</td>\n",
       "      <td>0</td>\n",
       "      <td>Aged White Cheddar Popcorn</td>\n",
       "      <td>23.0</td>\n",
       "      <td>19.0</td>\n",
       "      <td>4.7</td>\n",
       "      <td>Low range product</td>\n",
       "      <td>Regularly busy</td>\n",
       "      <td>Regular days</td>\n",
       "      <td>Average orders</td>\n",
       "      <td>10</td>\n",
       "      <td>New customer</td>\n",
       "      <td>6.367797</td>\n",
       "      <td>Low spender</td>\n",
       "      <td>20.5</td>\n",
       "      <td>Non-frequent customer</td>\n",
       "      <td>Female</td>\n",
       "      <td>Alabama</td>\n",
       "      <td>31</td>\n",
       "      <td>2/17/2019</td>\n",
       "      <td>3</td>\n",
       "      <td>married</td>\n",
       "      <td>40423</td>\n",
       "      <td>both</td>\n",
       "      <td>snacks</td>\n",
       "      <td>South</td>\n",
       "      <td>include</td>\n",
       "    </tr>\n",
       "    <tr>\n",
       "      <th>4</th>\n",
       "      <td>2539329</td>\n",
       "      <td>1</td>\n",
       "      <td>1</td>\n",
       "      <td>2</td>\n",
       "      <td>8</td>\n",
       "      <td>NaN</td>\n",
       "      <td>26405</td>\n",
       "      <td>5</td>\n",
       "      <td>0</td>\n",
       "      <td>XL Pick-A-Size Paper Towel Rolls</td>\n",
       "      <td>54.0</td>\n",
       "      <td>17.0</td>\n",
       "      <td>1.0</td>\n",
       "      <td>Low range product</td>\n",
       "      <td>Regularly busy</td>\n",
       "      <td>Regular days</td>\n",
       "      <td>Average orders</td>\n",
       "      <td>10</td>\n",
       "      <td>New customer</td>\n",
       "      <td>6.367797</td>\n",
       "      <td>Low spender</td>\n",
       "      <td>20.5</td>\n",
       "      <td>Non-frequent customer</td>\n",
       "      <td>Female</td>\n",
       "      <td>Alabama</td>\n",
       "      <td>31</td>\n",
       "      <td>2/17/2019</td>\n",
       "      <td>3</td>\n",
       "      <td>married</td>\n",
       "      <td>40423</td>\n",
       "      <td>both</td>\n",
       "      <td>household</td>\n",
       "      <td>South</td>\n",
       "      <td>include</td>\n",
       "    </tr>\n",
       "  </tbody>\n",
       "</table>\n",
       "</div>"
      ],
      "text/plain": [
       "   order_id user_id  order_number  order_day_of_week  order_hour_of_day  \\\n",
       "0   2539329       1             1                  2                  8   \n",
       "1   2539329       1             1                  2                  8   \n",
       "2   2539329       1             1                  2                  8   \n",
       "3   2539329       1             1                  2                  8   \n",
       "4   2539329       1             1                  2                  8   \n",
       "\n",
       "   days_since_prior_order  product_id  add_to_cart_order  reordered  \\\n",
       "0                     NaN         196                  1          0   \n",
       "1                     NaN       14084                  2          0   \n",
       "2                     NaN       12427                  3          0   \n",
       "3                     NaN       26088                  4          0   \n",
       "4                     NaN       26405                  5          0   \n",
       "\n",
       "                              product_name  aisle_id  department_id  prices  \\\n",
       "0                                     Soda      77.0            7.0     9.0   \n",
       "1  Organic Unsweetened Vanilla Almond Milk      91.0           16.0    12.5   \n",
       "2                      Original Beef Jerky      23.0           19.0     4.4   \n",
       "3               Aged White Cheddar Popcorn      23.0           19.0     4.7   \n",
       "4         XL Pick-A-Size Paper Towel Rolls      54.0           17.0     1.0   \n",
       "\n",
       "     price_range_loc     busiest_day busiest_day_2 busiest_period_of_day  \\\n",
       "0  Mid range product  Regularly busy  Regular days        Average orders   \n",
       "1  Mid range product  Regularly busy  Regular days        Average orders   \n",
       "2  Low range product  Regularly busy  Regular days        Average orders   \n",
       "3  Low range product  Regularly busy  Regular days        Average orders   \n",
       "4  Low range product  Regularly busy  Regular days        Average orders   \n",
       "\n",
       "   max_order  loyalty_flag  spender_type spending_flag  \\\n",
       "0         10  New customer      6.367797   Low spender   \n",
       "1         10  New customer      6.367797   Low spender   \n",
       "2         10  New customer      6.367797   Low spender   \n",
       "3         10  New customer      6.367797   Low spender   \n",
       "4         10  New customer      6.367797   Low spender   \n",
       "\n",
       "   median_order_frequency customer_frequency_flag  gender    state  age  \\\n",
       "0                    20.5   Non-frequent customer  Female  Alabama   31   \n",
       "1                    20.5   Non-frequent customer  Female  Alabama   31   \n",
       "2                    20.5   Non-frequent customer  Female  Alabama   31   \n",
       "3                    20.5   Non-frequent customer  Female  Alabama   31   \n",
       "4                    20.5   Non-frequent customer  Female  Alabama   31   \n",
       "\n",
       "  date_joined  number_of_dependents marital_status  income merge  \\\n",
       "0   2/17/2019                     3        married   40423  both   \n",
       "1   2/17/2019                     3        married   40423  both   \n",
       "2   2/17/2019                     3        married   40423  both   \n",
       "3   2/17/2019                     3        married   40423  both   \n",
       "4   2/17/2019                     3        married   40423  both   \n",
       "\n",
       "  department_name region exclusion_flag  \n",
       "0       beverages  South        include  \n",
       "1      dairy eggs  South        include  \n",
       "2          snacks  South        include  \n",
       "3          snacks  South        include  \n",
       "4       household  South        include  "
      ]
     },
     "execution_count": 17,
     "metadata": {},
     "output_type": "execute_result"
    }
   ],
   "source": [
    "df.head()"
   ]
  },
  {
   "cell_type": "code",
   "execution_count": 18,
   "id": "40b8c08c",
   "metadata": {},
   "outputs": [],
   "source": [
    "# Save customers to be excluded from the dataframe based on \"exclusion_flag\"\n",
    "\n",
    "df_low_activity_cust = df[df['exclusion_flag'] == 'exclude']"
   ]
  },
  {
   "cell_type": "code",
   "execution_count": 19,
   "id": "49f94c39",
   "metadata": {},
   "outputs": [
    {
     "data": {
      "text/plain": [
       "(1441273, 34)"
      ]
     },
     "execution_count": 19,
     "metadata": {},
     "output_type": "execute_result"
    }
   ],
   "source": [
    "df_low_activity_cust.shape"
   ]
  },
  {
   "cell_type": "code",
   "execution_count": 20,
   "id": "50203991",
   "metadata": {},
   "outputs": [],
   "source": [
    "# Export sample of low activity customers\n",
    "\n",
    "df_low_activity_cust.to_pickle(os.path.join(path, '02 Data', 'Prepared Data', 'low_activity_customer_sample.pkl'))"
   ]
  },
  {
   "cell_type": "code",
   "execution_count": 21,
   "id": "692d230f",
   "metadata": {},
   "outputs": [],
   "source": [
    "# Drop low activity customers from ords_prods_cust dataframe\n",
    "\n",
    "df = df.loc[df['exclusion_flag'] == 'include']"
   ]
  },
  {
   "cell_type": "code",
   "execution_count": 22,
   "id": "20c2d03c",
   "metadata": {},
   "outputs": [
    {
     "data": {
      "text/plain": [
       "(30988089, 34)"
      ]
     },
     "execution_count": 22,
     "metadata": {},
     "output_type": "execute_result"
    }
   ],
   "source": [
    "df.shape"
   ]
  },
  {
   "cell_type": "markdown",
   "id": "f81504fd",
   "metadata": {},
   "source": [
    "The dataframe's new shape shows that only the desired rows remain."
   ]
  },
  {
   "cell_type": "markdown",
   "id": "86e2dfdf",
   "metadata": {},
   "source": [
    "# 6. Creating new profiling variable for customers"
   ]
  },
  {
   "cell_type": "markdown",
   "id": "4591d69b",
   "metadata": {},
   "source": [
    "I am creating five flags in a new dedicated columns as follows:\n",
    "\n",
    "1. 'income_bracket': Low income (up to 40k USD)/Middle income (40k to 100k USD)/High income (100k + USD)\n",
    "2. 'age_group': Young adult (18 - 30 years)/Middle age (31 to 64 years)/Senior (65+ years)\n",
    "3. 'dependent_status': Dependents (1+ dependents)/No dependents (zero dependents)\n",
    "3. 'baby_household': True (purchases from department_id 18)/False (no purchases from department_id 18)\n",
    "4. 'weekend_shopper': True (purchases made on days 0 and 1)/False (no purchases made on days 0 and 1)\n",
    "5. 'late_night_shopper': True (pruchases made between 10pm and 4am)/False (no purchases made between 10pm and 4am)"
   ]
  },
  {
   "cell_type": "code",
   "execution_count": 23,
   "id": "42f030d4",
   "metadata": {},
   "outputs": [],
   "source": [
    "# Dropping columns not relevant for further analysis\n",
    "\n",
    "df = df.drop(columns = ['merge', 'exclusion_flag'])"
   ]
  },
  {
   "cell_type": "code",
   "execution_count": 24,
   "id": "0df3d98c",
   "metadata": {},
   "outputs": [],
   "source": [
    "# Create customer flag \"income_bracket\" \n",
    "\n",
    "df.loc[df['income'] <40000, 'income_bracket'] = 'Low income'\n",
    "df.loc[(df['income'] >=40000) & (df['income'] <100000) , 'income_bracket'] = 'Middle income'\n",
    "df.loc[df['income'] >=100000, 'income_bracket'] = 'High income'"
   ]
  },
  {
   "cell_type": "code",
   "execution_count": 25,
   "id": "9593e6ba",
   "metadata": {},
   "outputs": [
    {
     "data": {
      "text/plain": [
       "Middle income    15159373\n",
       "High income      14214962\n",
       "Low income        1613754\n",
       "Name: income_bracket, dtype: int64"
      ]
     },
     "execution_count": 25,
     "metadata": {},
     "output_type": "execute_result"
    }
   ],
   "source": [
    "df['income_bracket'].value_counts()"
   ]
  },
  {
   "cell_type": "code",
   "execution_count": 26,
   "id": "9026a01f",
   "metadata": {},
   "outputs": [],
   "source": [
    "# Create customer flag \"age_group\"\n",
    "\n",
    "df.loc[df['age'] <30, 'age_group'] = 'Young adult'\n",
    "df.loc[(df['age'] >=31) & (df['age'] <=64), 'age_group'] = 'Middle age'\n",
    "df.loc[df['age'] >=65, 'age_group'] = 'Senior'"
   ]
  },
  {
   "cell_type": "code",
   "execution_count": 27,
   "id": "ce2b2573",
   "metadata": {},
   "outputs": [
    {
     "data": {
      "text/plain": [
       "Middle age     16477467\n",
       "Senior          8201489\n",
       "Young adult     5822108\n",
       "Name: age_group, dtype: int64"
      ]
     },
     "execution_count": 27,
     "metadata": {},
     "output_type": "execute_result"
    }
   ],
   "source": [
    "df['age_group'].value_counts()"
   ]
  },
  {
   "cell_type": "code",
   "execution_count": 28,
   "id": "d54f265f",
   "metadata": {},
   "outputs": [],
   "source": [
    "# Create customer flag \"dependent_status\"\n",
    "\n",
    "df.loc[df['number_of_dependents'] == 0, 'dependent_status'] = 'No dependents'\n",
    "df.loc[df['number_of_dependents'] >+ 1, 'dependent_status'] = 'Dependents'"
   ]
  },
  {
   "cell_type": "code",
   "execution_count": 29,
   "id": "ec2fe89e",
   "metadata": {},
   "outputs": [
    {
     "data": {
      "text/plain": [
       "Dependents       15517339\n",
       "No dependents     7745918\n",
       "Name: dependent_status, dtype: int64"
      ]
     },
     "execution_count": 29,
     "metadata": {},
     "output_type": "execute_result"
    }
   ],
   "source": [
    "df['dependent_status'].value_counts()"
   ]
  },
  {
   "cell_type": "code",
   "execution_count": 30,
   "id": "ca897a34",
   "metadata": {},
   "outputs": [],
   "source": [
    "# Create customer flag \"baby_household\"\n",
    "\n",
    "df['baby_household'] = np.where(df['department_id'] == 18, True, False)"
   ]
  },
  {
   "cell_type": "code",
   "execution_count": 31,
   "id": "ee45a1d6",
   "metadata": {},
   "outputs": [
    {
     "data": {
      "text/plain": [
       "False    30577697\n",
       "True       410392\n",
       "Name: baby_household, dtype: int64"
      ]
     },
     "execution_count": 31,
     "metadata": {},
     "output_type": "execute_result"
    }
   ],
   "source": [
    "df['baby_household'].value_counts()"
   ]
  },
  {
   "cell_type": "code",
   "execution_count": 32,
   "id": "422e27ad",
   "metadata": {},
   "outputs": [],
   "source": [
    "# Create customer flag \"weekend_shopper\"\n",
    "\n",
    "df['weekend_shopper'] = np.where((df['order_day_of_week'] == 0) | (df['order_day_of_week'] == 1), True,False)"
   ]
  },
  {
   "cell_type": "code",
   "execution_count": 33,
   "id": "ce21ef6c",
   "metadata": {},
   "outputs": [
    {
     "data": {
      "text/plain": [
       "False    19658849\n",
       "True     11329240\n",
       "Name: weekend_shopper, dtype: int64"
      ]
     },
     "execution_count": 33,
     "metadata": {},
     "output_type": "execute_result"
    }
   ],
   "source": [
    "df['weekend_shopper'].value_counts()"
   ]
  },
  {
   "cell_type": "code",
   "execution_count": 34,
   "id": "4fbecfba",
   "metadata": {},
   "outputs": [],
   "source": [
    "# Create customer flag \"late_night_shopper\"\n",
    "\n",
    "df['late_night_shopper'] = np.where(df['order_hour_of_day'].between(0,4) | (df['order_hour_of_day'].between(22,23)), True, False)"
   ]
  },
  {
   "cell_type": "code",
   "execution_count": 35,
   "id": "0fe2618b",
   "metadata": {},
   "outputs": [
    {
     "data": {
      "text/plain": [
       "False    29512582\n",
       "True      1475507\n",
       "Name: late_night_shopper, dtype: int64"
      ]
     },
     "execution_count": 35,
     "metadata": {},
     "output_type": "execute_result"
    }
   ],
   "source": [
    "df['late_night_shopper'].value_counts()"
   ]
  },
  {
   "cell_type": "markdown",
   "id": "c9750b3c",
   "metadata": {},
   "source": [
    "# 7. Creating visualization to show distribution of profiles"
   ]
  },
  {
   "cell_type": "code",
   "execution_count": 36,
   "id": "eed3649b",
   "metadata": {},
   "outputs": [
    {
     "data": {
      "image/png": "[encoded data removed]",
      "text/plain": [
       "<Figure size 432x288 with 1 Axes>"
      ]
     },
     "metadata": {
      "needs_background": "light"
     },
     "output_type": "display_data"
    }
   ],
   "source": [
    "# Create a bar chart of the \"income bracket\" profile\n",
    "\n",
    "bar_1 = df.groupby('income_bracket')['user_id'].nunique().plot.bar(title = 'Customer income', xlabel = '')"
   ]
  },
  {
   "cell_type": "code",
   "execution_count": 37,
   "id": "576f96b0",
   "metadata": {},
   "outputs": [
    {
     "data": {
      "image/png": "[encoded data removed]",
      "text/plain": [
       "<Figure size 432x288 with 1 Axes>"
      ]
     },
     "metadata": {
      "needs_background": "light"
     },
     "output_type": "display_data"
    }
   ],
   "source": [
    "# Create a bar chart of the \"age group\" profile\n",
    "\n",
    "bar_2 = df.groupby('age_group')['user_id'].nunique().plot.bar(title = 'Age groups', xlabel = '')"
   ]
  },
  {
   "cell_type": "code",
   "execution_count": 38,
   "id": "fca7dd02",
   "metadata": {},
   "outputs": [
    {
     "data": {
      "image/png": "[encoded data removed]",
      "text/plain": [
       "<Figure size 432x288 with 1 Axes>"
      ]
     },
     "metadata": {},
     "output_type": "display_data"
    }
   ],
   "source": [
    "# Create a pie chart for the \"dependent status\" profile\n",
    "\n",
    "pie_1 = df.groupby('dependent_status')['user_id'].nunique().plot.pie(legend=False, autopct='%1.1f%%', title = 'Household with dependents', ylabel = '')"
   ]
  },
  {
   "cell_type": "code",
   "execution_count": 39,
   "id": "928a784c",
   "metadata": {},
   "outputs": [
    {
     "data": {
      "image/png": "[encoded data removed]",
      "text/plain": [
       "<Figure size 432x288 with 1 Axes>"
      ]
     },
     "metadata": {},
     "output_type": "display_data"
    }
   ],
   "source": [
    "# Create a pie chart for the \"baby household\" profile\n",
    "\n",
    "pie_2 = df.groupby('baby_household')['user_id'].nunique().plot.pie(legend=False, autopct='%1.1f%%', title = 'Customers buying baby products', ylabel ='')"
   ]
  },
  {
   "cell_type": "code",
   "execution_count": 40,
   "id": "0ad84db3",
   "metadata": {},
   "outputs": [
    {
     "data": {
      "image/png": "[encoded data removed]",
      "text/plain": [
       "<Figure size 432x288 with 1 Axes>"
      ]
     },
     "metadata": {},
     "output_type": "display_data"
    }
   ],
   "source": [
    "# Create a pie chart for the \"weekend shopper\" profile\n",
    "\n",
    "pie_3 = df.groupby('weekend_shopper')['user_id'].nunique().plot.pie(legend=False, autopct='%1.1f%%', title = 'Weekend shopper', ylabel = '')"
   ]
  },
  {
   "cell_type": "code",
   "execution_count": 41,
   "id": "9ecc0d3f",
   "metadata": {},
   "outputs": [
    {
     "data": {
      "image/png": "[encoded data removed]",
      "text/plain": [
       "<Figure size 432x288 with 1 Axes>"
      ]
     },
     "metadata": {},
     "output_type": "display_data"
    }
   ],
   "source": [
    "# Create a pie chart for the \"late night shopper\" profile\n",
    "\n",
    "pie_4 = df.groupby('late_night_shopper')['user_id'].nunique().plot.pie(legend=False, autopct='%1.1f%%', title = 'Late night shopper', ylabel = '')"
   ]
  },
  {
   "cell_type": "markdown",
   "id": "8b414763",
   "metadata": {},
   "source": [
    "# 8. Aggregating customer-profile for usage frequency and expenditure"
   ]
  },
  {
   "cell_type": "code",
   "execution_count": 42,
   "id": "cb75c5fa",
   "metadata": {},
   "outputs": [],
   "source": [
    "# Create new df ordered by user_id\n",
    "\n",
    "df_users = df.drop_duplicates(subset='user_id')"
   ]
  },
  {
   "cell_type": "code",
   "execution_count": 43,
   "id": "16491985",
   "metadata": {},
   "outputs": [
    {
     "data": {
      "text/plain": [
       "(162633, 38)"
      ]
     },
     "execution_count": 43,
     "metadata": {},
     "output_type": "execute_result"
    }
   ],
   "source": [
    "df_users.shape"
   ]
  },
  {
   "cell_type": "code",
   "execution_count": 44,
   "id": "be4c0b17",
   "metadata": {},
   "outputs": [
    {
     "data": {
      "text/html": [
       "<div>\n",
       "<style scoped>\n",
       "    .dataframe tbody tr th:only-of-type {\n",
       "        vertical-align: middle;\n",
       "    }\n",
       "\n",
       "    .dataframe tbody tr th {\n",
       "        vertical-align: top;\n",
       "    }\n",
       "\n",
       "    .dataframe thead tr th {\n",
       "        text-align: left;\n",
       "    }\n",
       "\n",
       "    .dataframe thead tr:last-of-type th {\n",
       "        text-align: right;\n",
       "    }\n",
       "</style>\n",
       "<table border=\"1\" class=\"dataframe\">\n",
       "  <thead>\n",
       "    <tr>\n",
       "      <th></th>\n",
       "      <th colspan=\"3\" halign=\"left\">median_order_frequency</th>\n",
       "      <th colspan=\"3\" halign=\"left\">prices</th>\n",
       "    </tr>\n",
       "    <tr>\n",
       "      <th></th>\n",
       "      <th>min</th>\n",
       "      <th>max</th>\n",
       "      <th>mean</th>\n",
       "      <th>min</th>\n",
       "      <th>max</th>\n",
       "      <th>mean</th>\n",
       "    </tr>\n",
       "    <tr>\n",
       "      <th>income_bracket</th>\n",
       "      <th></th>\n",
       "      <th></th>\n",
       "      <th></th>\n",
       "      <th></th>\n",
       "      <th></th>\n",
       "      <th></th>\n",
       "    </tr>\n",
       "  </thead>\n",
       "  <tbody>\n",
       "    <tr>\n",
       "      <th>High income</th>\n",
       "      <td>0.0</td>\n",
       "      <td>30.0</td>\n",
       "      <td>13.534866</td>\n",
       "      <td>1.0</td>\n",
       "      <td>25.0</td>\n",
       "      <td>8.251467</td>\n",
       "    </tr>\n",
       "    <tr>\n",
       "      <th>Low income</th>\n",
       "      <td>0.0</td>\n",
       "      <td>30.0</td>\n",
       "      <td>14.902416</td>\n",
       "      <td>1.0</td>\n",
       "      <td>25.0</td>\n",
       "      <td>6.219159</td>\n",
       "    </tr>\n",
       "    <tr>\n",
       "      <th>Middle income</th>\n",
       "      <td>0.0</td>\n",
       "      <td>30.0</td>\n",
       "      <td>13.783754</td>\n",
       "      <td>1.0</td>\n",
       "      <td>25.0</td>\n",
       "      <td>7.869825</td>\n",
       "    </tr>\n",
       "  </tbody>\n",
       "</table>\n",
       "</div>"
      ],
      "text/plain": [
       "               median_order_frequency                  prices                \n",
       "                                  min   max       mean    min   max      mean\n",
       "income_bracket                                                               \n",
       "High income                       0.0  30.0  13.534866    1.0  25.0  8.251467\n",
       "Low income                        0.0  30.0  14.902416    1.0  25.0  6.219159\n",
       "Middle income                     0.0  30.0  13.783754    1.0  25.0  7.869825"
      ]
     },
     "execution_count": 44,
     "metadata": {},
     "output_type": "execute_result"
    }
   ],
   "source": [
    "# Check \"customer profile\" profile for \"median order frequency\" and prices\" max, mean and min values\n",
    "\n",
    "df_users.groupby('income_bracket').agg({'median_order_frequency': ['min', 'max', 'mean'], 'prices': ['min', 'max', 'mean']})"
   ]
  },
  {
   "cell_type": "code",
   "execution_count": 45,
   "id": "77aefbb3",
   "metadata": {},
   "outputs": [
    {
     "data": {
      "text/html": [
       "<div>\n",
       "<style scoped>\n",
       "    .dataframe tbody tr th:only-of-type {\n",
       "        vertical-align: middle;\n",
       "    }\n",
       "\n",
       "    .dataframe tbody tr th {\n",
       "        vertical-align: top;\n",
       "    }\n",
       "\n",
       "    .dataframe thead tr th {\n",
       "        text-align: left;\n",
       "    }\n",
       "\n",
       "    .dataframe thead tr:last-of-type th {\n",
       "        text-align: right;\n",
       "    }\n",
       "</style>\n",
       "<table border=\"1\" class=\"dataframe\">\n",
       "  <thead>\n",
       "    <tr>\n",
       "      <th></th>\n",
       "      <th colspan=\"3\" halign=\"left\">median_order_frequency</th>\n",
       "      <th colspan=\"3\" halign=\"left\">prices</th>\n",
       "    </tr>\n",
       "    <tr>\n",
       "      <th></th>\n",
       "      <th>min</th>\n",
       "      <th>max</th>\n",
       "      <th>mean</th>\n",
       "      <th>min</th>\n",
       "      <th>max</th>\n",
       "      <th>mean</th>\n",
       "    </tr>\n",
       "    <tr>\n",
       "      <th>age_group</th>\n",
       "      <th></th>\n",
       "      <th></th>\n",
       "      <th></th>\n",
       "      <th></th>\n",
       "      <th></th>\n",
       "      <th></th>\n",
       "    </tr>\n",
       "  </thead>\n",
       "  <tbody>\n",
       "    <tr>\n",
       "      <th>Middle age</th>\n",
       "      <td>0.0</td>\n",
       "      <td>30.0</td>\n",
       "      <td>13.781371</td>\n",
       "      <td>1.0</td>\n",
       "      <td>25.0</td>\n",
       "      <td>7.902150</td>\n",
       "    </tr>\n",
       "    <tr>\n",
       "      <th>Senior</th>\n",
       "      <td>0.0</td>\n",
       "      <td>30.0</td>\n",
       "      <td>13.716879</td>\n",
       "      <td>1.0</td>\n",
       "      <td>25.0</td>\n",
       "      <td>7.933854</td>\n",
       "    </tr>\n",
       "    <tr>\n",
       "      <th>Young adult</th>\n",
       "      <td>0.0</td>\n",
       "      <td>30.0</td>\n",
       "      <td>13.752979</td>\n",
       "      <td>1.0</td>\n",
       "      <td>25.0</td>\n",
       "      <td>7.878899</td>\n",
       "    </tr>\n",
       "  </tbody>\n",
       "</table>\n",
       "</div>"
      ],
      "text/plain": [
       "            median_order_frequency                  prices                \n",
       "                               min   max       mean    min   max      mean\n",
       "age_group                                                                 \n",
       "Middle age                     0.0  30.0  13.781371    1.0  25.0  7.902150\n",
       "Senior                         0.0  30.0  13.716879    1.0  25.0  7.933854\n",
       "Young adult                    0.0  30.0  13.752979    1.0  25.0  7.878899"
      ]
     },
     "execution_count": 45,
     "metadata": {},
     "output_type": "execute_result"
    }
   ],
   "source": [
    "# Check \"age group\" profile for \"median order frequency\" and prices\" max, mean and min values\n",
    "\n",
    "df_users.groupby('age_group').agg({'median_order_frequency': ['min', 'max', 'mean'], 'prices': ['min', 'max', 'mean']})"
   ]
  },
  {
   "cell_type": "code",
   "execution_count": 46,
   "id": "b9b566b2",
   "metadata": {},
   "outputs": [
    {
     "data": {
      "text/html": [
       "<div>\n",
       "<style scoped>\n",
       "    .dataframe tbody tr th:only-of-type {\n",
       "        vertical-align: middle;\n",
       "    }\n",
       "\n",
       "    .dataframe tbody tr th {\n",
       "        vertical-align: top;\n",
       "    }\n",
       "\n",
       "    .dataframe thead tr th {\n",
       "        text-align: left;\n",
       "    }\n",
       "\n",
       "    .dataframe thead tr:last-of-type th {\n",
       "        text-align: right;\n",
       "    }\n",
       "</style>\n",
       "<table border=\"1\" class=\"dataframe\">\n",
       "  <thead>\n",
       "    <tr>\n",
       "      <th></th>\n",
       "      <th colspan=\"3\" halign=\"left\">median_order_frequency</th>\n",
       "      <th colspan=\"3\" halign=\"left\">prices</th>\n",
       "    </tr>\n",
       "    <tr>\n",
       "      <th></th>\n",
       "      <th>min</th>\n",
       "      <th>max</th>\n",
       "      <th>mean</th>\n",
       "      <th>min</th>\n",
       "      <th>max</th>\n",
       "      <th>mean</th>\n",
       "    </tr>\n",
       "    <tr>\n",
       "      <th>dependent_status</th>\n",
       "      <th></th>\n",
       "      <th></th>\n",
       "      <th></th>\n",
       "      <th></th>\n",
       "      <th></th>\n",
       "      <th></th>\n",
       "    </tr>\n",
       "  </thead>\n",
       "  <tbody>\n",
       "    <tr>\n",
       "      <th>Dependents</th>\n",
       "      <td>0.0</td>\n",
       "      <td>30.0</td>\n",
       "      <td>13.751681</td>\n",
       "      <td>1.0</td>\n",
       "      <td>25.0</td>\n",
       "      <td>7.895292</td>\n",
       "    </tr>\n",
       "    <tr>\n",
       "      <th>No dependents</th>\n",
       "      <td>0.0</td>\n",
       "      <td>30.0</td>\n",
       "      <td>13.767310</td>\n",
       "      <td>1.0</td>\n",
       "      <td>25.0</td>\n",
       "      <td>7.899791</td>\n",
       "    </tr>\n",
       "  </tbody>\n",
       "</table>\n",
       "</div>"
      ],
      "text/plain": [
       "                 median_order_frequency                  prices        \\\n",
       "                                    min   max       mean    min   max   \n",
       "dependent_status                                                        \n",
       "Dependents                          0.0  30.0  13.751681    1.0  25.0   \n",
       "No dependents                       0.0  30.0  13.767310    1.0  25.0   \n",
       "\n",
       "                            \n",
       "                      mean  \n",
       "dependent_status            \n",
       "Dependents        7.895292  \n",
       "No dependents     7.899791  "
      ]
     },
     "execution_count": 46,
     "metadata": {},
     "output_type": "execute_result"
    }
   ],
   "source": [
    "# Check \"dependent status\" profile for \"median order frequency\" and prices\" max, mean and min values\n",
    "\n",
    "df_users.groupby('dependent_status').agg({'median_order_frequency': ['min', 'max', 'mean'], 'prices': ['min', 'max', 'mean']})"
   ]
  },
  {
   "cell_type": "code",
   "execution_count": 47,
   "id": "ce256d47",
   "metadata": {},
   "outputs": [
    {
     "data": {
      "text/html": [
       "<div>\n",
       "<style scoped>\n",
       "    .dataframe tbody tr th:only-of-type {\n",
       "        vertical-align: middle;\n",
       "    }\n",
       "\n",
       "    .dataframe tbody tr th {\n",
       "        vertical-align: top;\n",
       "    }\n",
       "\n",
       "    .dataframe thead tr th {\n",
       "        text-align: left;\n",
       "    }\n",
       "\n",
       "    .dataframe thead tr:last-of-type th {\n",
       "        text-align: right;\n",
       "    }\n",
       "</style>\n",
       "<table border=\"1\" class=\"dataframe\">\n",
       "  <thead>\n",
       "    <tr>\n",
       "      <th></th>\n",
       "      <th colspan=\"3\" halign=\"left\">median_order_frequency</th>\n",
       "      <th colspan=\"3\" halign=\"left\">prices</th>\n",
       "    </tr>\n",
       "    <tr>\n",
       "      <th></th>\n",
       "      <th>min</th>\n",
       "      <th>max</th>\n",
       "      <th>mean</th>\n",
       "      <th>min</th>\n",
       "      <th>max</th>\n",
       "      <th>mean</th>\n",
       "    </tr>\n",
       "    <tr>\n",
       "      <th>baby_household</th>\n",
       "      <th></th>\n",
       "      <th></th>\n",
       "      <th></th>\n",
       "      <th></th>\n",
       "      <th></th>\n",
       "      <th></th>\n",
       "    </tr>\n",
       "  </thead>\n",
       "  <tbody>\n",
       "    <tr>\n",
       "      <th>False</th>\n",
       "      <td>0.0</td>\n",
       "      <td>30.0</td>\n",
       "      <td>13.772375</td>\n",
       "      <td>1.0</td>\n",
       "      <td>25.0</td>\n",
       "      <td>7.905563</td>\n",
       "    </tr>\n",
       "    <tr>\n",
       "      <th>True</th>\n",
       "      <td>1.0</td>\n",
       "      <td>30.0</td>\n",
       "      <td>12.467584</td>\n",
       "      <td>1.1</td>\n",
       "      <td>15.0</td>\n",
       "      <td>7.983659</td>\n",
       "    </tr>\n",
       "  </tbody>\n",
       "</table>\n",
       "</div>"
      ],
      "text/plain": [
       "               median_order_frequency                  prices                \n",
       "                                  min   max       mean    min   max      mean\n",
       "baby_household                                                               \n",
       "False                             0.0  30.0  13.772375    1.0  25.0  7.905563\n",
       "True                              1.0  30.0  12.467584    1.1  15.0  7.983659"
      ]
     },
     "execution_count": 47,
     "metadata": {},
     "output_type": "execute_result"
    }
   ],
   "source": [
    "# Check \"baby household\" profile for \"median order frequency\" and prices\" max, mean and min values\n",
    "\n",
    "df_users.groupby('baby_household').agg({'median_order_frequency': ['min', 'max', 'mean'], 'prices': ['min', 'max', 'mean']})"
   ]
  },
  {
   "cell_type": "code",
   "execution_count": 48,
   "id": "45920f36",
   "metadata": {},
   "outputs": [
    {
     "data": {
      "text/html": [
       "<div>\n",
       "<style scoped>\n",
       "    .dataframe tbody tr th:only-of-type {\n",
       "        vertical-align: middle;\n",
       "    }\n",
       "\n",
       "    .dataframe tbody tr th {\n",
       "        vertical-align: top;\n",
       "    }\n",
       "\n",
       "    .dataframe thead tr th {\n",
       "        text-align: left;\n",
       "    }\n",
       "\n",
       "    .dataframe thead tr:last-of-type th {\n",
       "        text-align: right;\n",
       "    }\n",
       "</style>\n",
       "<table border=\"1\" class=\"dataframe\">\n",
       "  <thead>\n",
       "    <tr>\n",
       "      <th></th>\n",
       "      <th colspan=\"3\" halign=\"left\">median_order_frequency</th>\n",
       "      <th colspan=\"3\" halign=\"left\">prices</th>\n",
       "    </tr>\n",
       "    <tr>\n",
       "      <th></th>\n",
       "      <th>min</th>\n",
       "      <th>max</th>\n",
       "      <th>mean</th>\n",
       "      <th>min</th>\n",
       "      <th>max</th>\n",
       "      <th>mean</th>\n",
       "    </tr>\n",
       "    <tr>\n",
       "      <th>weekend_shopper</th>\n",
       "      <th></th>\n",
       "      <th></th>\n",
       "      <th></th>\n",
       "      <th></th>\n",
       "      <th></th>\n",
       "      <th></th>\n",
       "    </tr>\n",
       "  </thead>\n",
       "  <tbody>\n",
       "    <tr>\n",
       "      <th>False</th>\n",
       "      <td>0.0</td>\n",
       "      <td>30.0</td>\n",
       "      <td>13.672750</td>\n",
       "      <td>1.0</td>\n",
       "      <td>25.0</td>\n",
       "      <td>7.883199</td>\n",
       "    </tr>\n",
       "    <tr>\n",
       "      <th>True</th>\n",
       "      <td>0.0</td>\n",
       "      <td>30.0</td>\n",
       "      <td>13.926734</td>\n",
       "      <td>1.0</td>\n",
       "      <td>25.0</td>\n",
       "      <td>7.947415</td>\n",
       "    </tr>\n",
       "  </tbody>\n",
       "</table>\n",
       "</div>"
      ],
      "text/plain": [
       "                median_order_frequency                  prices                \n",
       "                                   min   max       mean    min   max      mean\n",
       "weekend_shopper                                                               \n",
       "False                              0.0  30.0  13.672750    1.0  25.0  7.883199\n",
       "True                               0.0  30.0  13.926734    1.0  25.0  7.947415"
      ]
     },
     "execution_count": 48,
     "metadata": {},
     "output_type": "execute_result"
    }
   ],
   "source": [
    "# Check \"weekend shopper\" profile for \"median order frequency\" and prices\" max, mean and min values\n",
    "\n",
    "df_users.groupby('weekend_shopper').agg({'median_order_frequency': ['min', 'max', 'mean'], 'prices': ['min', 'max', 'mean']})"
   ]
  },
  {
   "cell_type": "code",
   "execution_count": 49,
   "id": "bf1a9c7a",
   "metadata": {},
   "outputs": [
    {
     "data": {
      "text/html": [
       "<div>\n",
       "<style scoped>\n",
       "    .dataframe tbody tr th:only-of-type {\n",
       "        vertical-align: middle;\n",
       "    }\n",
       "\n",
       "    .dataframe tbody tr th {\n",
       "        vertical-align: top;\n",
       "    }\n",
       "\n",
       "    .dataframe thead tr th {\n",
       "        text-align: left;\n",
       "    }\n",
       "\n",
       "    .dataframe thead tr:last-of-type th {\n",
       "        text-align: right;\n",
       "    }\n",
       "</style>\n",
       "<table border=\"1\" class=\"dataframe\">\n",
       "  <thead>\n",
       "    <tr>\n",
       "      <th></th>\n",
       "      <th colspan=\"3\" halign=\"left\">median_order_frequency</th>\n",
       "      <th colspan=\"3\" halign=\"left\">prices</th>\n",
       "    </tr>\n",
       "    <tr>\n",
       "      <th></th>\n",
       "      <th>min</th>\n",
       "      <th>max</th>\n",
       "      <th>mean</th>\n",
       "      <th>min</th>\n",
       "      <th>max</th>\n",
       "      <th>mean</th>\n",
       "    </tr>\n",
       "    <tr>\n",
       "      <th>late_night_shopper</th>\n",
       "      <th></th>\n",
       "      <th></th>\n",
       "      <th></th>\n",
       "      <th></th>\n",
       "      <th></th>\n",
       "      <th></th>\n",
       "    </tr>\n",
       "  </thead>\n",
       "  <tbody>\n",
       "    <tr>\n",
       "      <th>False</th>\n",
       "      <td>0.0</td>\n",
       "      <td>30.0</td>\n",
       "      <td>13.758255</td>\n",
       "      <td>1.0</td>\n",
       "      <td>25.0</td>\n",
       "      <td>7.907742</td>\n",
       "    </tr>\n",
       "    <tr>\n",
       "      <th>True</th>\n",
       "      <td>0.0</td>\n",
       "      <td>30.0</td>\n",
       "      <td>13.864166</td>\n",
       "      <td>1.0</td>\n",
       "      <td>25.0</td>\n",
       "      <td>7.873661</td>\n",
       "    </tr>\n",
       "  </tbody>\n",
       "</table>\n",
       "</div>"
      ],
      "text/plain": [
       "                   median_order_frequency                  prices        \\\n",
       "                                      min   max       mean    min   max   \n",
       "late_night_shopper                                                        \n",
       "False                                 0.0  30.0  13.758255    1.0  25.0   \n",
       "True                                  0.0  30.0  13.864166    1.0  25.0   \n",
       "\n",
       "                              \n",
       "                        mean  \n",
       "late_night_shopper            \n",
       "False               7.907742  \n",
       "True                7.873661  "
      ]
     },
     "execution_count": 49,
     "metadata": {},
     "output_type": "execute_result"
    }
   ],
   "source": [
    "# Check \"late night shopper\" profile for \"median order frequency\" and prices\" max, mean and min values\n",
    "\n",
    "df_users.groupby('late_night_shopper').agg({'median_order_frequency': ['min', 'max', 'mean'], 'prices': ['min', 'max', 'mean']})"
   ]
  },
  {
   "cell_type": "markdown",
   "id": "7ae22f1a",
   "metadata": {},
   "source": [
    "# 9. Compare your customer profiles with regions and departments"
   ]
  },
  {
   "cell_type": "code",
   "execution_count": 50,
   "id": "5f514a8e",
   "metadata": {
    "scrolled": true
   },
   "outputs": [
    {
     "data": {
      "text/html": [
       "<div>\n",
       "<style scoped>\n",
       "    .dataframe tbody tr th:only-of-type {\n",
       "        vertical-align: middle;\n",
       "    }\n",
       "\n",
       "    .dataframe tbody tr th {\n",
       "        vertical-align: top;\n",
       "    }\n",
       "\n",
       "    .dataframe thead th {\n",
       "        text-align: right;\n",
       "    }\n",
       "</style>\n",
       "<table border=\"1\" class=\"dataframe\">\n",
       "  <thead>\n",
       "    <tr style=\"text-align: right;\">\n",
       "      <th>region</th>\n",
       "      <th>Midwest</th>\n",
       "      <th>Northeast</th>\n",
       "      <th>South</th>\n",
       "      <th>West</th>\n",
       "    </tr>\n",
       "    <tr>\n",
       "      <th>income_bracket</th>\n",
       "      <th></th>\n",
       "      <th></th>\n",
       "      <th></th>\n",
       "      <th></th>\n",
       "    </tr>\n",
       "  </thead>\n",
       "  <tbody>\n",
       "    <tr>\n",
       "      <th>High income</th>\n",
       "      <td>0.239102</td>\n",
       "      <td>0.176491</td>\n",
       "      <td>0.330437</td>\n",
       "      <td>0.253970</td>\n",
       "    </tr>\n",
       "    <tr>\n",
       "      <th>Low income</th>\n",
       "      <td>0.232317</td>\n",
       "      <td>0.178059</td>\n",
       "      <td>0.332673</td>\n",
       "      <td>0.256950</td>\n",
       "    </tr>\n",
       "    <tr>\n",
       "      <th>Middle income</th>\n",
       "      <td>0.233807</td>\n",
       "      <td>0.174714</td>\n",
       "      <td>0.335765</td>\n",
       "      <td>0.255715</td>\n",
       "    </tr>\n",
       "    <tr>\n",
       "      <th>All</th>\n",
       "      <td>0.235973</td>\n",
       "      <td>0.175739</td>\n",
       "      <td>0.333229</td>\n",
       "      <td>0.255059</td>\n",
       "    </tr>\n",
       "  </tbody>\n",
       "</table>\n",
       "</div>"
      ],
      "text/plain": [
       "region           Midwest  Northeast     South      West\n",
       "income_bracket                                         \n",
       "High income     0.239102   0.176491  0.330437  0.253970\n",
       "Low income      0.232317   0.178059  0.332673  0.256950\n",
       "Middle income   0.233807   0.174714  0.335765  0.255715\n",
       "All             0.235973   0.175739  0.333229  0.255059"
      ]
     },
     "execution_count": 50,
     "metadata": {},
     "output_type": "execute_result"
    }
   ],
   "source": [
    "# Compare \"income bracket\" with \"region\"\n",
    "\n",
    "pd.crosstab(df_users['income_bracket'], df_users['region'], margins=True,  normalize='index')"
   ]
  },
  {
   "cell_type": "code",
   "execution_count": 51,
   "id": "df65a8b8",
   "metadata": {},
   "outputs": [
    {
     "data": {
      "text/html": [
       "<div>\n",
       "<style scoped>\n",
       "    .dataframe tbody tr th:only-of-type {\n",
       "        vertical-align: middle;\n",
       "    }\n",
       "\n",
       "    .dataframe tbody tr th {\n",
       "        vertical-align: top;\n",
       "    }\n",
       "\n",
       "    .dataframe thead th {\n",
       "        text-align: right;\n",
       "    }\n",
       "</style>\n",
       "<table border=\"1\" class=\"dataframe\">\n",
       "  <thead>\n",
       "    <tr style=\"text-align: right;\">\n",
       "      <th>department_id</th>\n",
       "      <th>1.0</th>\n",
       "      <th>2.0</th>\n",
       "      <th>3.0</th>\n",
       "      <th>4.0</th>\n",
       "      <th>5.0</th>\n",
       "      <th>6.0</th>\n",
       "      <th>7.0</th>\n",
       "      <th>8.0</th>\n",
       "      <th>9.0</th>\n",
       "      <th>10.0</th>\n",
       "      <th>11.0</th>\n",
       "      <th>12.0</th>\n",
       "      <th>13.0</th>\n",
       "      <th>14.0</th>\n",
       "      <th>15.0</th>\n",
       "      <th>16.0</th>\n",
       "      <th>17.0</th>\n",
       "      <th>18.0</th>\n",
       "      <th>19.0</th>\n",
       "      <th>20.0</th>\n",
       "      <th>21.0</th>\n",
       "    </tr>\n",
       "    <tr>\n",
       "      <th>income_bracket</th>\n",
       "      <th></th>\n",
       "      <th></th>\n",
       "      <th></th>\n",
       "      <th></th>\n",
       "      <th></th>\n",
       "      <th></th>\n",
       "      <th></th>\n",
       "      <th></th>\n",
       "      <th></th>\n",
       "      <th></th>\n",
       "      <th></th>\n",
       "      <th></th>\n",
       "      <th></th>\n",
       "      <th></th>\n",
       "      <th></th>\n",
       "      <th></th>\n",
       "      <th></th>\n",
       "      <th></th>\n",
       "      <th></th>\n",
       "      <th></th>\n",
       "      <th></th>\n",
       "    </tr>\n",
       "  </thead>\n",
       "  <tbody>\n",
       "    <tr>\n",
       "      <th>High income</th>\n",
       "      <td>0.063176</td>\n",
       "      <td>0.001715</td>\n",
       "      <td>0.038197</td>\n",
       "      <td>0.280899</td>\n",
       "      <td>0.014276</td>\n",
       "      <td>0.006602</td>\n",
       "      <td>0.121608</td>\n",
       "      <td>0.004187</td>\n",
       "      <td>0.016905</td>\n",
       "      <td>0.000829</td>\n",
       "      <td>0.016948</td>\n",
       "      <td>0.026051</td>\n",
       "      <td>0.045085</td>\n",
       "      <td>0.017348</td>\n",
       "      <td>0.019434</td>\n",
       "      <td>0.203961</td>\n",
       "      <td>0.028166</td>\n",
       "      <td>0.007459</td>\n",
       "      <td>0.057017</td>\n",
       "      <td>0.029409</td>\n",
       "      <td>0.000729</td>\n",
       "    </tr>\n",
       "    <tr>\n",
       "      <th>Low income</th>\n",
       "      <td>0.059556</td>\n",
       "      <td>0.001665</td>\n",
       "      <td>0.030531</td>\n",
       "      <td>0.225535</td>\n",
       "      <td>0.015940</td>\n",
       "      <td>0.004837</td>\n",
       "      <td>0.173910</td>\n",
       "      <td>0.003727</td>\n",
       "      <td>0.011657</td>\n",
       "      <td>0.001269</td>\n",
       "      <td>0.016336</td>\n",
       "      <td>0.008485</td>\n",
       "      <td>0.038937</td>\n",
       "      <td>0.020619</td>\n",
       "      <td>0.015940</td>\n",
       "      <td>0.165424</td>\n",
       "      <td>0.030214</td>\n",
       "      <td>0.004362</td>\n",
       "      <td>0.146947</td>\n",
       "      <td>0.023394</td>\n",
       "      <td>0.000714</td>\n",
       "    </tr>\n",
       "    <tr>\n",
       "      <th>Middle income</th>\n",
       "      <td>0.062717</td>\n",
       "      <td>0.001604</td>\n",
       "      <td>0.037698</td>\n",
       "      <td>0.271489</td>\n",
       "      <td>0.013180</td>\n",
       "      <td>0.006803</td>\n",
       "      <td>0.130696</td>\n",
       "      <td>0.004272</td>\n",
       "      <td>0.016462</td>\n",
       "      <td>0.000940</td>\n",
       "      <td>0.016174</td>\n",
       "      <td>0.022739</td>\n",
       "      <td>0.044902</td>\n",
       "      <td>0.018930</td>\n",
       "      <td>0.019131</td>\n",
       "      <td>0.194741</td>\n",
       "      <td>0.027512</td>\n",
       "      <td>0.006878</td>\n",
       "      <td>0.073892</td>\n",
       "      <td>0.028577</td>\n",
       "      <td>0.000664</td>\n",
       "    </tr>\n",
       "    <tr>\n",
       "      <th>All</th>\n",
       "      <td>0.062669</td>\n",
       "      <td>0.001656</td>\n",
       "      <td>0.037357</td>\n",
       "      <td>0.271976</td>\n",
       "      <td>0.013866</td>\n",
       "      <td>0.006564</td>\n",
       "      <td>0.130135</td>\n",
       "      <td>0.004193</td>\n",
       "      <td>0.016280</td>\n",
       "      <td>0.000917</td>\n",
       "      <td>0.016520</td>\n",
       "      <td>0.023059</td>\n",
       "      <td>0.044518</td>\n",
       "      <td>0.018380</td>\n",
       "      <td>0.019014</td>\n",
       "      <td>0.196437</td>\n",
       "      <td>0.028004</td>\n",
       "      <td>0.006933</td>\n",
       "      <td>0.072293</td>\n",
       "      <td>0.028533</td>\n",
       "      <td>0.000696</td>\n",
       "    </tr>\n",
       "  </tbody>\n",
       "</table>\n",
       "</div>"
      ],
      "text/plain": [
       "department_id        1.0       2.0       3.0       4.0       5.0       6.0  \\\n",
       "income_bracket                                                               \n",
       "High income     0.063176  0.001715  0.038197  0.280899  0.014276  0.006602   \n",
       "Low income      0.059556  0.001665  0.030531  0.225535  0.015940  0.004837   \n",
       "Middle income   0.062717  0.001604  0.037698  0.271489  0.013180  0.006803   \n",
       "All             0.062669  0.001656  0.037357  0.271976  0.013866  0.006564   \n",
       "\n",
       "department_id        7.0       8.0       9.0      10.0      11.0      12.0  \\\n",
       "income_bracket                                                               \n",
       "High income     0.121608  0.004187  0.016905  0.000829  0.016948  0.026051   \n",
       "Low income      0.173910  0.003727  0.011657  0.001269  0.016336  0.008485   \n",
       "Middle income   0.130696  0.004272  0.016462  0.000940  0.016174  0.022739   \n",
       "All             0.130135  0.004193  0.016280  0.000917  0.016520  0.023059   \n",
       "\n",
       "department_id       13.0      14.0      15.0      16.0      17.0      18.0  \\\n",
       "income_bracket                                                               \n",
       "High income     0.045085  0.017348  0.019434  0.203961  0.028166  0.007459   \n",
       "Low income      0.038937  0.020619  0.015940  0.165424  0.030214  0.004362   \n",
       "Middle income   0.044902  0.018930  0.019131  0.194741  0.027512  0.006878   \n",
       "All             0.044518  0.018380  0.019014  0.196437  0.028004  0.006933   \n",
       "\n",
       "department_id       19.0      20.0      21.0  \n",
       "income_bracket                                \n",
       "High income     0.057017  0.029409  0.000729  \n",
       "Low income      0.146947  0.023394  0.000714  \n",
       "Middle income   0.073892  0.028577  0.000664  \n",
       "All             0.072293  0.028533  0.000696  "
      ]
     },
     "execution_count": 51,
     "metadata": {},
     "output_type": "execute_result"
    }
   ],
   "source": [
    "# Compare \"income bracket\" with \"department\"\n",
    "\n",
    "pd.crosstab(df_users['income_bracket'], df_users['department_id'], margins=True,  normalize='index')"
   ]
  },
  {
   "cell_type": "markdown",
   "id": "3c691850",
   "metadata": {},
   "source": [
    "The different income profiles are quite evenly spread by region. Certain interesting differences in spending habits become evident, for example that the low income profile spends a lower percentage of its overall expenses on produce and meat/seafood. Meanwhile, the high income bracket spends the highest percentage on meat/seafood. "
   ]
  },
  {
   "cell_type": "code",
   "execution_count": 52,
   "id": "c8286cfe",
   "metadata": {},
   "outputs": [
    {
     "data": {
      "text/html": [
       "<div>\n",
       "<style scoped>\n",
       "    .dataframe tbody tr th:only-of-type {\n",
       "        vertical-align: middle;\n",
       "    }\n",
       "\n",
       "    .dataframe tbody tr th {\n",
       "        vertical-align: top;\n",
       "    }\n",
       "\n",
       "    .dataframe thead th {\n",
       "        text-align: right;\n",
       "    }\n",
       "</style>\n",
       "<table border=\"1\" class=\"dataframe\">\n",
       "  <thead>\n",
       "    <tr style=\"text-align: right;\">\n",
       "      <th>region</th>\n",
       "      <th>Midwest</th>\n",
       "      <th>Northeast</th>\n",
       "      <th>South</th>\n",
       "      <th>West</th>\n",
       "    </tr>\n",
       "    <tr>\n",
       "      <th>age_group</th>\n",
       "      <th></th>\n",
       "      <th></th>\n",
       "      <th></th>\n",
       "      <th></th>\n",
       "    </tr>\n",
       "  </thead>\n",
       "  <tbody>\n",
       "    <tr>\n",
       "      <th>Middle age</th>\n",
       "      <td>0.237922</td>\n",
       "      <td>0.176575</td>\n",
       "      <td>0.331628</td>\n",
       "      <td>0.253875</td>\n",
       "    </tr>\n",
       "    <tr>\n",
       "      <th>Senior</th>\n",
       "      <td>0.235121</td>\n",
       "      <td>0.175260</td>\n",
       "      <td>0.333711</td>\n",
       "      <td>0.255908</td>\n",
       "    </tr>\n",
       "    <tr>\n",
       "      <th>Young adult</th>\n",
       "      <td>0.232486</td>\n",
       "      <td>0.173196</td>\n",
       "      <td>0.337997</td>\n",
       "      <td>0.256321</td>\n",
       "    </tr>\n",
       "    <tr>\n",
       "      <th>All</th>\n",
       "      <td>0.236133</td>\n",
       "      <td>0.175578</td>\n",
       "      <td>0.333400</td>\n",
       "      <td>0.254889</td>\n",
       "    </tr>\n",
       "  </tbody>\n",
       "</table>\n",
       "</div>"
      ],
      "text/plain": [
       "region        Midwest  Northeast     South      West\n",
       "age_group                                           \n",
       "Middle age   0.237922   0.176575  0.331628  0.253875\n",
       "Senior       0.235121   0.175260  0.333711  0.255908\n",
       "Young adult  0.232486   0.173196  0.337997  0.256321\n",
       "All          0.236133   0.175578  0.333400  0.254889"
      ]
     },
     "execution_count": 52,
     "metadata": {},
     "output_type": "execute_result"
    }
   ],
   "source": [
    "# Compare \"age group\" with \"region\"\n",
    "\n",
    "pd.crosstab(df_users['age_group'], df_users['region'], margins=True,  normalize='index')"
   ]
  },
  {
   "cell_type": "code",
   "execution_count": 53,
   "id": "455e6445",
   "metadata": {},
   "outputs": [
    {
     "data": {
      "text/html": [
       "<div>\n",
       "<style scoped>\n",
       "    .dataframe tbody tr th:only-of-type {\n",
       "        vertical-align: middle;\n",
       "    }\n",
       "\n",
       "    .dataframe tbody tr th {\n",
       "        vertical-align: top;\n",
       "    }\n",
       "\n",
       "    .dataframe thead th {\n",
       "        text-align: right;\n",
       "    }\n",
       "</style>\n",
       "<table border=\"1\" class=\"dataframe\">\n",
       "  <thead>\n",
       "    <tr style=\"text-align: right;\">\n",
       "      <th>department_id</th>\n",
       "      <th>1.0</th>\n",
       "      <th>2.0</th>\n",
       "      <th>3.0</th>\n",
       "      <th>4.0</th>\n",
       "      <th>5.0</th>\n",
       "      <th>6.0</th>\n",
       "      <th>7.0</th>\n",
       "      <th>8.0</th>\n",
       "      <th>9.0</th>\n",
       "      <th>10.0</th>\n",
       "      <th>11.0</th>\n",
       "      <th>12.0</th>\n",
       "      <th>13.0</th>\n",
       "      <th>14.0</th>\n",
       "      <th>15.0</th>\n",
       "      <th>16.0</th>\n",
       "      <th>17.0</th>\n",
       "      <th>18.0</th>\n",
       "      <th>19.0</th>\n",
       "      <th>20.0</th>\n",
       "      <th>21.0</th>\n",
       "    </tr>\n",
       "    <tr>\n",
       "      <th>age_group</th>\n",
       "      <th></th>\n",
       "      <th></th>\n",
       "      <th></th>\n",
       "      <th></th>\n",
       "      <th></th>\n",
       "      <th></th>\n",
       "      <th></th>\n",
       "      <th></th>\n",
       "      <th></th>\n",
       "      <th></th>\n",
       "      <th></th>\n",
       "      <th></th>\n",
       "      <th></th>\n",
       "      <th></th>\n",
       "      <th></th>\n",
       "      <th></th>\n",
       "      <th></th>\n",
       "      <th></th>\n",
       "      <th></th>\n",
       "      <th></th>\n",
       "      <th></th>\n",
       "    </tr>\n",
       "  </thead>\n",
       "  <tbody>\n",
       "    <tr>\n",
       "      <th>Middle age</th>\n",
       "      <td>0.063376</td>\n",
       "      <td>0.001611</td>\n",
       "      <td>0.036690</td>\n",
       "      <td>0.271461</td>\n",
       "      <td>0.013586</td>\n",
       "      <td>0.006561</td>\n",
       "      <td>0.130601</td>\n",
       "      <td>0.004231</td>\n",
       "      <td>0.016797</td>\n",
       "      <td>0.000811</td>\n",
       "      <td>0.016624</td>\n",
       "      <td>0.022860</td>\n",
       "      <td>0.044782</td>\n",
       "      <td>0.018247</td>\n",
       "      <td>0.018386</td>\n",
       "      <td>0.196724</td>\n",
       "      <td>0.028170</td>\n",
       "      <td>0.006735</td>\n",
       "      <td>0.072696</td>\n",
       "      <td>0.028459</td>\n",
       "      <td>0.000591</td>\n",
       "    </tr>\n",
       "    <tr>\n",
       "      <th>Senior</th>\n",
       "      <td>0.060320</td>\n",
       "      <td>0.001783</td>\n",
       "      <td>0.038114</td>\n",
       "      <td>0.273144</td>\n",
       "      <td>0.013963</td>\n",
       "      <td>0.006321</td>\n",
       "      <td>0.131130</td>\n",
       "      <td>0.004075</td>\n",
       "      <td>0.015491</td>\n",
       "      <td>0.000903</td>\n",
       "      <td>0.016232</td>\n",
       "      <td>0.023758</td>\n",
       "      <td>0.044297</td>\n",
       "      <td>0.019381</td>\n",
       "      <td>0.019080</td>\n",
       "      <td>0.196152</td>\n",
       "      <td>0.027694</td>\n",
       "      <td>0.007086</td>\n",
       "      <td>0.071389</td>\n",
       "      <td>0.028829</td>\n",
       "      <td>0.000857</td>\n",
       "    </tr>\n",
       "    <tr>\n",
       "      <th>Young adult</th>\n",
       "      <td>0.064027</td>\n",
       "      <td>0.001681</td>\n",
       "      <td>0.038541</td>\n",
       "      <td>0.271735</td>\n",
       "      <td>0.014573</td>\n",
       "      <td>0.007055</td>\n",
       "      <td>0.127526</td>\n",
       "      <td>0.004319</td>\n",
       "      <td>0.016023</td>\n",
       "      <td>0.001220</td>\n",
       "      <td>0.016650</td>\n",
       "      <td>0.022254</td>\n",
       "      <td>0.043981</td>\n",
       "      <td>0.017606</td>\n",
       "      <td>0.020474</td>\n",
       "      <td>0.195641</td>\n",
       "      <td>0.028024</td>\n",
       "      <td>0.007023</td>\n",
       "      <td>0.072698</td>\n",
       "      <td>0.028156</td>\n",
       "      <td>0.000791</td>\n",
       "    </tr>\n",
       "    <tr>\n",
       "      <th>All</th>\n",
       "      <td>0.062674</td>\n",
       "      <td>0.001671</td>\n",
       "      <td>0.037426</td>\n",
       "      <td>0.271968</td>\n",
       "      <td>0.013875</td>\n",
       "      <td>0.006590</td>\n",
       "      <td>0.130160</td>\n",
       "      <td>0.004206</td>\n",
       "      <td>0.016297</td>\n",
       "      <td>0.000914</td>\n",
       "      <td>0.016523</td>\n",
       "      <td>0.022988</td>\n",
       "      <td>0.044499</td>\n",
       "      <td>0.018432</td>\n",
       "      <td>0.018970</td>\n",
       "      <td>0.196364</td>\n",
       "      <td>0.028014</td>\n",
       "      <td>0.006884</td>\n",
       "      <td>0.072343</td>\n",
       "      <td>0.028502</td>\n",
       "      <td>0.000701</td>\n",
       "    </tr>\n",
       "  </tbody>\n",
       "</table>\n",
       "</div>"
      ],
      "text/plain": [
       "department_id       1.0       2.0       3.0       4.0       5.0       6.0  \\\n",
       "age_group                                                                   \n",
       "Middle age     0.063376  0.001611  0.036690  0.271461  0.013586  0.006561   \n",
       "Senior         0.060320  0.001783  0.038114  0.273144  0.013963  0.006321   \n",
       "Young adult    0.064027  0.001681  0.038541  0.271735  0.014573  0.007055   \n",
       "All            0.062674  0.001671  0.037426  0.271968  0.013875  0.006590   \n",
       "\n",
       "department_id       7.0       8.0       9.0      10.0      11.0      12.0  \\\n",
       "age_group                                                                   \n",
       "Middle age     0.130601  0.004231  0.016797  0.000811  0.016624  0.022860   \n",
       "Senior         0.131130  0.004075  0.015491  0.000903  0.016232  0.023758   \n",
       "Young adult    0.127526  0.004319  0.016023  0.001220  0.016650  0.022254   \n",
       "All            0.130160  0.004206  0.016297  0.000914  0.016523  0.022988   \n",
       "\n",
       "department_id      13.0      14.0      15.0      16.0      17.0      18.0  \\\n",
       "age_group                                                                   \n",
       "Middle age     0.044782  0.018247  0.018386  0.196724  0.028170  0.006735   \n",
       "Senior         0.044297  0.019381  0.019080  0.196152  0.027694  0.007086   \n",
       "Young adult    0.043981  0.017606  0.020474  0.195641  0.028024  0.007023   \n",
       "All            0.044499  0.018432  0.018970  0.196364  0.028014  0.006884   \n",
       "\n",
       "department_id      19.0      20.0      21.0  \n",
       "age_group                                    \n",
       "Middle age     0.072696  0.028459  0.000591  \n",
       "Senior         0.071389  0.028829  0.000857  \n",
       "Young adult    0.072698  0.028156  0.000791  \n",
       "All            0.072343  0.028502  0.000701  "
      ]
     },
     "execution_count": 53,
     "metadata": {},
     "output_type": "execute_result"
    }
   ],
   "source": [
    "# Compare \"age group\" with \"department\"\n",
    "\n",
    "pd.crosstab(df_users['age_group'], df_users['department_id'], margins=True,  normalize='index')"
   ]
  },
  {
   "cell_type": "markdown",
   "id": "0962f82d",
   "metadata": {},
   "source": [
    "Again, the different age profiles are quite evenly spread per region. Here, the spending habits by department are a lot more similar than observed above by income group."
   ]
  },
  {
   "cell_type": "code",
   "execution_count": 54,
   "id": "cd5558e9",
   "metadata": {},
   "outputs": [
    {
     "data": {
      "text/html": [
       "<div>\n",
       "<style scoped>\n",
       "    .dataframe tbody tr th:only-of-type {\n",
       "        vertical-align: middle;\n",
       "    }\n",
       "\n",
       "    .dataframe tbody tr th {\n",
       "        vertical-align: top;\n",
       "    }\n",
       "\n",
       "    .dataframe thead th {\n",
       "        text-align: right;\n",
       "    }\n",
       "</style>\n",
       "<table border=\"1\" class=\"dataframe\">\n",
       "  <thead>\n",
       "    <tr style=\"text-align: right;\">\n",
       "      <th>region</th>\n",
       "      <th>Midwest</th>\n",
       "      <th>Northeast</th>\n",
       "      <th>South</th>\n",
       "      <th>West</th>\n",
       "    </tr>\n",
       "    <tr>\n",
       "      <th>dependent_status</th>\n",
       "      <th></th>\n",
       "      <th></th>\n",
       "      <th></th>\n",
       "      <th></th>\n",
       "    </tr>\n",
       "  </thead>\n",
       "  <tbody>\n",
       "    <tr>\n",
       "      <th>Dependents</th>\n",
       "      <td>0.236099</td>\n",
       "      <td>0.174116</td>\n",
       "      <td>0.333814</td>\n",
       "      <td>0.255972</td>\n",
       "    </tr>\n",
       "    <tr>\n",
       "      <th>No dependents</th>\n",
       "      <td>0.234900</td>\n",
       "      <td>0.178133</td>\n",
       "      <td>0.332376</td>\n",
       "      <td>0.254591</td>\n",
       "    </tr>\n",
       "    <tr>\n",
       "      <th>All</th>\n",
       "      <td>0.235698</td>\n",
       "      <td>0.175458</td>\n",
       "      <td>0.333333</td>\n",
       "      <td>0.255511</td>\n",
       "    </tr>\n",
       "  </tbody>\n",
       "</table>\n",
       "</div>"
      ],
      "text/plain": [
       "region             Midwest  Northeast     South      West\n",
       "dependent_status                                         \n",
       "Dependents        0.236099   0.174116  0.333814  0.255972\n",
       "No dependents     0.234900   0.178133  0.332376  0.254591\n",
       "All               0.235698   0.175458  0.333333  0.255511"
      ]
     },
     "execution_count": 54,
     "metadata": {},
     "output_type": "execute_result"
    }
   ],
   "source": [
    "# Compare \"dependent status\" with \"region\"\n",
    "\n",
    "pd.crosstab(df_users['dependent_status'], df_users['region'], margins=True,  normalize='index')"
   ]
  },
  {
   "cell_type": "code",
   "execution_count": 55,
   "id": "af5aceb9",
   "metadata": {},
   "outputs": [
    {
     "data": {
      "text/html": [
       "<div>\n",
       "<style scoped>\n",
       "    .dataframe tbody tr th:only-of-type {\n",
       "        vertical-align: middle;\n",
       "    }\n",
       "\n",
       "    .dataframe tbody tr th {\n",
       "        vertical-align: top;\n",
       "    }\n",
       "\n",
       "    .dataframe thead th {\n",
       "        text-align: right;\n",
       "    }\n",
       "</style>\n",
       "<table border=\"1\" class=\"dataframe\">\n",
       "  <thead>\n",
       "    <tr style=\"text-align: right;\">\n",
       "      <th>department_id</th>\n",
       "      <th>1.0</th>\n",
       "      <th>2.0</th>\n",
       "      <th>3.0</th>\n",
       "      <th>4.0</th>\n",
       "      <th>5.0</th>\n",
       "      <th>6.0</th>\n",
       "      <th>7.0</th>\n",
       "      <th>8.0</th>\n",
       "      <th>9.0</th>\n",
       "      <th>10.0</th>\n",
       "      <th>11.0</th>\n",
       "      <th>12.0</th>\n",
       "      <th>13.0</th>\n",
       "      <th>14.0</th>\n",
       "      <th>15.0</th>\n",
       "      <th>16.0</th>\n",
       "      <th>17.0</th>\n",
       "      <th>18.0</th>\n",
       "      <th>19.0</th>\n",
       "      <th>20.0</th>\n",
       "      <th>21.0</th>\n",
       "    </tr>\n",
       "    <tr>\n",
       "      <th>dependent_status</th>\n",
       "      <th></th>\n",
       "      <th></th>\n",
       "      <th></th>\n",
       "      <th></th>\n",
       "      <th></th>\n",
       "      <th></th>\n",
       "      <th></th>\n",
       "      <th></th>\n",
       "      <th></th>\n",
       "      <th></th>\n",
       "      <th></th>\n",
       "      <th></th>\n",
       "      <th></th>\n",
       "      <th></th>\n",
       "      <th></th>\n",
       "      <th></th>\n",
       "      <th></th>\n",
       "      <th></th>\n",
       "      <th></th>\n",
       "      <th></th>\n",
       "      <th></th>\n",
       "    </tr>\n",
       "  </thead>\n",
       "  <tbody>\n",
       "    <tr>\n",
       "      <th>Dependents</th>\n",
       "      <td>0.062680</td>\n",
       "      <td>0.001480</td>\n",
       "      <td>0.037339</td>\n",
       "      <td>0.271718</td>\n",
       "      <td>0.013959</td>\n",
       "      <td>0.006363</td>\n",
       "      <td>0.131315</td>\n",
       "      <td>0.003860</td>\n",
       "      <td>0.016894</td>\n",
       "      <td>0.000937</td>\n",
       "      <td>0.016487</td>\n",
       "      <td>0.022936</td>\n",
       "      <td>0.044331</td>\n",
       "      <td>0.018423</td>\n",
       "      <td>0.018669</td>\n",
       "      <td>0.195659</td>\n",
       "      <td>0.028029</td>\n",
       "      <td>0.007078</td>\n",
       "      <td>0.072199</td>\n",
       "      <td>0.028880</td>\n",
       "      <td>0.000765</td>\n",
       "    </tr>\n",
       "    <tr>\n",
       "      <th>No dependents</th>\n",
       "      <td>0.065491</td>\n",
       "      <td>0.001918</td>\n",
       "      <td>0.037406</td>\n",
       "      <td>0.269515</td>\n",
       "      <td>0.012936</td>\n",
       "      <td>0.006812</td>\n",
       "      <td>0.128744</td>\n",
       "      <td>0.004501</td>\n",
       "      <td>0.016035</td>\n",
       "      <td>0.000959</td>\n",
       "      <td>0.016305</td>\n",
       "      <td>0.022945</td>\n",
       "      <td>0.042595</td>\n",
       "      <td>0.018346</td>\n",
       "      <td>0.019379</td>\n",
       "      <td>0.198588</td>\n",
       "      <td>0.027569</td>\n",
       "      <td>0.007157</td>\n",
       "      <td>0.073631</td>\n",
       "      <td>0.028552</td>\n",
       "      <td>0.000615</td>\n",
       "    </tr>\n",
       "    <tr>\n",
       "      <th>All</th>\n",
       "      <td>0.063619</td>\n",
       "      <td>0.001626</td>\n",
       "      <td>0.037361</td>\n",
       "      <td>0.270982</td>\n",
       "      <td>0.013617</td>\n",
       "      <td>0.006513</td>\n",
       "      <td>0.130457</td>\n",
       "      <td>0.004074</td>\n",
       "      <td>0.016607</td>\n",
       "      <td>0.000945</td>\n",
       "      <td>0.016426</td>\n",
       "      <td>0.022939</td>\n",
       "      <td>0.043751</td>\n",
       "      <td>0.018397</td>\n",
       "      <td>0.018907</td>\n",
       "      <td>0.196638</td>\n",
       "      <td>0.027875</td>\n",
       "      <td>0.007104</td>\n",
       "      <td>0.072678</td>\n",
       "      <td>0.028770</td>\n",
       "      <td>0.000715</td>\n",
       "    </tr>\n",
       "  </tbody>\n",
       "</table>\n",
       "</div>"
      ],
      "text/plain": [
       "department_id          1.0       2.0       3.0       4.0       5.0       6.0  \\\n",
       "dependent_status                                                               \n",
       "Dependents        0.062680  0.001480  0.037339  0.271718  0.013959  0.006363   \n",
       "No dependents     0.065491  0.001918  0.037406  0.269515  0.012936  0.006812   \n",
       "All               0.063619  0.001626  0.037361  0.270982  0.013617  0.006513   \n",
       "\n",
       "department_id          7.0       8.0       9.0      10.0      11.0      12.0  \\\n",
       "dependent_status                                                               \n",
       "Dependents        0.131315  0.003860  0.016894  0.000937  0.016487  0.022936   \n",
       "No dependents     0.128744  0.004501  0.016035  0.000959  0.016305  0.022945   \n",
       "All               0.130457  0.004074  0.016607  0.000945  0.016426  0.022939   \n",
       "\n",
       "department_id         13.0      14.0      15.0      16.0      17.0      18.0  \\\n",
       "dependent_status                                                               \n",
       "Dependents        0.044331  0.018423  0.018669  0.195659  0.028029  0.007078   \n",
       "No dependents     0.042595  0.018346  0.019379  0.198588  0.027569  0.007157   \n",
       "All               0.043751  0.018397  0.018907  0.196638  0.027875  0.007104   \n",
       "\n",
       "department_id         19.0      20.0      21.0  \n",
       "dependent_status                                \n",
       "Dependents        0.072199  0.028880  0.000765  \n",
       "No dependents     0.073631  0.028552  0.000615  \n",
       "All               0.072678  0.028770  0.000715  "
      ]
     },
     "execution_count": 55,
     "metadata": {},
     "output_type": "execute_result"
    }
   ],
   "source": [
    "# Compare \"dependent status\" with \"department\"\n",
    "\n",
    "pd.crosstab(df_users['dependent_status'], df_users['department_id'], margins=True,  normalize='index')"
   ]
  },
  {
   "cell_type": "markdown",
   "id": "f5a77b73",
   "metadata": {},
   "source": [
    "Again, quite even distribution per region for the dependents profiles. Overall spending by department is similar too. One interesting datapoint here is the higher spending of the \"No dependents\" profile in the pet department."
   ]
  },
  {
   "cell_type": "code",
   "execution_count": 56,
   "id": "23ebea14",
   "metadata": {},
   "outputs": [
    {
     "data": {
      "text/html": [
       "<div>\n",
       "<style scoped>\n",
       "    .dataframe tbody tr th:only-of-type {\n",
       "        vertical-align: middle;\n",
       "    }\n",
       "\n",
       "    .dataframe tbody tr th {\n",
       "        vertical-align: top;\n",
       "    }\n",
       "\n",
       "    .dataframe thead th {\n",
       "        text-align: right;\n",
       "    }\n",
       "</style>\n",
       "<table border=\"1\" class=\"dataframe\">\n",
       "  <thead>\n",
       "    <tr style=\"text-align: right;\">\n",
       "      <th>region</th>\n",
       "      <th>Midwest</th>\n",
       "      <th>Northeast</th>\n",
       "      <th>South</th>\n",
       "      <th>West</th>\n",
       "    </tr>\n",
       "    <tr>\n",
       "      <th>baby_household</th>\n",
       "      <th></th>\n",
       "      <th></th>\n",
       "      <th></th>\n",
       "      <th></th>\n",
       "    </tr>\n",
       "  </thead>\n",
       "  <tbody>\n",
       "    <tr>\n",
       "      <th>False</th>\n",
       "      <td>0.236064</td>\n",
       "      <td>0.175776</td>\n",
       "      <td>0.333082</td>\n",
       "      <td>0.255079</td>\n",
       "    </tr>\n",
       "    <tr>\n",
       "      <th>True</th>\n",
       "      <td>0.222913</td>\n",
       "      <td>0.170515</td>\n",
       "      <td>0.354352</td>\n",
       "      <td>0.252220</td>\n",
       "    </tr>\n",
       "    <tr>\n",
       "      <th>All</th>\n",
       "      <td>0.235973</td>\n",
       "      <td>0.175739</td>\n",
       "      <td>0.333229</td>\n",
       "      <td>0.255059</td>\n",
       "    </tr>\n",
       "  </tbody>\n",
       "</table>\n",
       "</div>"
      ],
      "text/plain": [
       "region           Midwest  Northeast     South      West\n",
       "baby_household                                         \n",
       "False           0.236064   0.175776  0.333082  0.255079\n",
       "True            0.222913   0.170515  0.354352  0.252220\n",
       "All             0.235973   0.175739  0.333229  0.255059"
      ]
     },
     "execution_count": 56,
     "metadata": {},
     "output_type": "execute_result"
    }
   ],
   "source": [
    "# Compare \"baby household\" with \"region\"\n",
    "\n",
    "pd.crosstab(df_users['baby_household'], df_users['region'], margins=True,  normalize='index')"
   ]
  },
  {
   "cell_type": "code",
   "execution_count": 57,
   "id": "c636fe15",
   "metadata": {},
   "outputs": [
    {
     "data": {
      "text/html": [
       "<div>\n",
       "<style scoped>\n",
       "    .dataframe tbody tr th:only-of-type {\n",
       "        vertical-align: middle;\n",
       "    }\n",
       "\n",
       "    .dataframe tbody tr th {\n",
       "        vertical-align: top;\n",
       "    }\n",
       "\n",
       "    .dataframe thead th {\n",
       "        text-align: right;\n",
       "    }\n",
       "</style>\n",
       "<table border=\"1\" class=\"dataframe\">\n",
       "  <thead>\n",
       "    <tr style=\"text-align: right;\">\n",
       "      <th>department_id</th>\n",
       "      <th>1.0</th>\n",
       "      <th>2.0</th>\n",
       "      <th>3.0</th>\n",
       "      <th>4.0</th>\n",
       "      <th>5.0</th>\n",
       "      <th>6.0</th>\n",
       "      <th>7.0</th>\n",
       "      <th>8.0</th>\n",
       "      <th>9.0</th>\n",
       "      <th>10.0</th>\n",
       "      <th>11.0</th>\n",
       "      <th>12.0</th>\n",
       "      <th>13.0</th>\n",
       "      <th>14.0</th>\n",
       "      <th>15.0</th>\n",
       "      <th>16.0</th>\n",
       "      <th>17.0</th>\n",
       "      <th>18.0</th>\n",
       "      <th>19.0</th>\n",
       "      <th>20.0</th>\n",
       "      <th>21.0</th>\n",
       "    </tr>\n",
       "    <tr>\n",
       "      <th>baby_household</th>\n",
       "      <th></th>\n",
       "      <th></th>\n",
       "      <th></th>\n",
       "      <th></th>\n",
       "      <th></th>\n",
       "      <th></th>\n",
       "      <th></th>\n",
       "      <th></th>\n",
       "      <th></th>\n",
       "      <th></th>\n",
       "      <th></th>\n",
       "      <th></th>\n",
       "      <th></th>\n",
       "      <th></th>\n",
       "      <th></th>\n",
       "      <th></th>\n",
       "      <th></th>\n",
       "      <th></th>\n",
       "      <th></th>\n",
       "      <th></th>\n",
       "      <th></th>\n",
       "    </tr>\n",
       "  </thead>\n",
       "  <tbody>\n",
       "    <tr>\n",
       "      <th>False</th>\n",
       "      <td>0.063107</td>\n",
       "      <td>0.001668</td>\n",
       "      <td>0.037617</td>\n",
       "      <td>0.273874</td>\n",
       "      <td>0.013963</td>\n",
       "      <td>0.006610</td>\n",
       "      <td>0.131044</td>\n",
       "      <td>0.004222</td>\n",
       "      <td>0.016394</td>\n",
       "      <td>0.000924</td>\n",
       "      <td>0.016635</td>\n",
       "      <td>0.023220</td>\n",
       "      <td>0.044828</td>\n",
       "      <td>0.018508</td>\n",
       "      <td>0.019147</td>\n",
       "      <td>0.197809</td>\n",
       "      <td>0.028199</td>\n",
       "      <td>0.000000</td>\n",
       "      <td>0.072798</td>\n",
       "      <td>0.028732</td>\n",
       "      <td>0.000701</td>\n",
       "    </tr>\n",
       "    <tr>\n",
       "      <th>True</th>\n",
       "      <td>0.000000</td>\n",
       "      <td>0.000000</td>\n",
       "      <td>0.000000</td>\n",
       "      <td>0.000000</td>\n",
       "      <td>0.000000</td>\n",
       "      <td>0.000000</td>\n",
       "      <td>0.000000</td>\n",
       "      <td>0.000000</td>\n",
       "      <td>0.000000</td>\n",
       "      <td>0.000000</td>\n",
       "      <td>0.000000</td>\n",
       "      <td>0.000000</td>\n",
       "      <td>0.000000</td>\n",
       "      <td>0.000000</td>\n",
       "      <td>0.000000</td>\n",
       "      <td>0.000000</td>\n",
       "      <td>0.000000</td>\n",
       "      <td>1.000000</td>\n",
       "      <td>0.000000</td>\n",
       "      <td>0.000000</td>\n",
       "      <td>0.000000</td>\n",
       "    </tr>\n",
       "    <tr>\n",
       "      <th>All</th>\n",
       "      <td>0.062669</td>\n",
       "      <td>0.001656</td>\n",
       "      <td>0.037357</td>\n",
       "      <td>0.271976</td>\n",
       "      <td>0.013866</td>\n",
       "      <td>0.006564</td>\n",
       "      <td>0.130135</td>\n",
       "      <td>0.004193</td>\n",
       "      <td>0.016280</td>\n",
       "      <td>0.000917</td>\n",
       "      <td>0.016520</td>\n",
       "      <td>0.023059</td>\n",
       "      <td>0.044518</td>\n",
       "      <td>0.018380</td>\n",
       "      <td>0.019014</td>\n",
       "      <td>0.196437</td>\n",
       "      <td>0.028004</td>\n",
       "      <td>0.006933</td>\n",
       "      <td>0.072293</td>\n",
       "      <td>0.028533</td>\n",
       "      <td>0.000696</td>\n",
       "    </tr>\n",
       "  </tbody>\n",
       "</table>\n",
       "</div>"
      ],
      "text/plain": [
       "department_id        1.0       2.0       3.0       4.0       5.0       6.0  \\\n",
       "baby_household                                                               \n",
       "False           0.063107  0.001668  0.037617  0.273874  0.013963  0.006610   \n",
       "True            0.000000  0.000000  0.000000  0.000000  0.000000  0.000000   \n",
       "All             0.062669  0.001656  0.037357  0.271976  0.013866  0.006564   \n",
       "\n",
       "department_id        7.0       8.0       9.0      10.0      11.0      12.0  \\\n",
       "baby_household                                                               \n",
       "False           0.131044  0.004222  0.016394  0.000924  0.016635  0.023220   \n",
       "True            0.000000  0.000000  0.000000  0.000000  0.000000  0.000000   \n",
       "All             0.130135  0.004193  0.016280  0.000917  0.016520  0.023059   \n",
       "\n",
       "department_id       13.0      14.0      15.0      16.0      17.0      18.0  \\\n",
       "baby_household                                                               \n",
       "False           0.044828  0.018508  0.019147  0.197809  0.028199  0.000000   \n",
       "True            0.000000  0.000000  0.000000  0.000000  0.000000  1.000000   \n",
       "All             0.044518  0.018380  0.019014  0.196437  0.028004  0.006933   \n",
       "\n",
       "department_id       19.0      20.0      21.0  \n",
       "baby_household                                \n",
       "False           0.072798  0.028732  0.000701  \n",
       "True            0.000000  0.000000  0.000000  \n",
       "All             0.072293  0.028533  0.000696  "
      ]
     },
     "execution_count": 57,
     "metadata": {},
     "output_type": "execute_result"
    }
   ],
   "source": [
    "# Compare \"baby household\" with \"department\"\n",
    "\n",
    "pd.crosstab(df_users['baby_household'], df_users['department_id'], margins=True,  normalize='index')"
   ]
  },
  {
   "cell_type": "markdown",
   "id": "1d4a8a50",
   "metadata": {},
   "source": [
    "Here we observe a higher percentage of households with babies in the South, but slightly lower in the other regions. Because this profile was created by selecting customers based on spending in department 18 (baby category), no meaningful comparison by department is possible for this flag."
   ]
  },
  {
   "cell_type": "code",
   "execution_count": 58,
   "id": "8dd61489",
   "metadata": {},
   "outputs": [
    {
     "data": {
      "text/html": [
       "<div>\n",
       "<style scoped>\n",
       "    .dataframe tbody tr th:only-of-type {\n",
       "        vertical-align: middle;\n",
       "    }\n",
       "\n",
       "    .dataframe tbody tr th {\n",
       "        vertical-align: top;\n",
       "    }\n",
       "\n",
       "    .dataframe thead th {\n",
       "        text-align: right;\n",
       "    }\n",
       "</style>\n",
       "<table border=\"1\" class=\"dataframe\">\n",
       "  <thead>\n",
       "    <tr style=\"text-align: right;\">\n",
       "      <th>region</th>\n",
       "      <th>Midwest</th>\n",
       "      <th>Northeast</th>\n",
       "      <th>South</th>\n",
       "      <th>West</th>\n",
       "    </tr>\n",
       "    <tr>\n",
       "      <th>weekend_shopper</th>\n",
       "      <th></th>\n",
       "      <th></th>\n",
       "      <th></th>\n",
       "      <th></th>\n",
       "    </tr>\n",
       "  </thead>\n",
       "  <tbody>\n",
       "    <tr>\n",
       "      <th>False</th>\n",
       "      <td>0.235852</td>\n",
       "      <td>0.177090</td>\n",
       "      <td>0.332196</td>\n",
       "      <td>0.254863</td>\n",
       "    </tr>\n",
       "    <tr>\n",
       "      <th>True</th>\n",
       "      <td>0.236192</td>\n",
       "      <td>0.173304</td>\n",
       "      <td>0.335092</td>\n",
       "      <td>0.255413</td>\n",
       "    </tr>\n",
       "    <tr>\n",
       "      <th>All</th>\n",
       "      <td>0.235973</td>\n",
       "      <td>0.175739</td>\n",
       "      <td>0.333229</td>\n",
       "      <td>0.255059</td>\n",
       "    </tr>\n",
       "  </tbody>\n",
       "</table>\n",
       "</div>"
      ],
      "text/plain": [
       "region            Midwest  Northeast     South      West\n",
       "weekend_shopper                                         \n",
       "False            0.235852   0.177090  0.332196  0.254863\n",
       "True             0.236192   0.173304  0.335092  0.255413\n",
       "All              0.235973   0.175739  0.333229  0.255059"
      ]
     },
     "execution_count": 58,
     "metadata": {},
     "output_type": "execute_result"
    }
   ],
   "source": [
    "# Compare \"weekend shopper\" with \"region\"\n",
    "\n",
    "pd.crosstab(df_users['weekend_shopper'], df_users['region'], margins=True,  normalize='index')"
   ]
  },
  {
   "cell_type": "code",
   "execution_count": 59,
   "id": "143d8e9d",
   "metadata": {},
   "outputs": [
    {
     "data": {
      "text/html": [
       "<div>\n",
       "<style scoped>\n",
       "    .dataframe tbody tr th:only-of-type {\n",
       "        vertical-align: middle;\n",
       "    }\n",
       "\n",
       "    .dataframe tbody tr th {\n",
       "        vertical-align: top;\n",
       "    }\n",
       "\n",
       "    .dataframe thead th {\n",
       "        text-align: right;\n",
       "    }\n",
       "</style>\n",
       "<table border=\"1\" class=\"dataframe\">\n",
       "  <thead>\n",
       "    <tr style=\"text-align: right;\">\n",
       "      <th>department_id</th>\n",
       "      <th>1.0</th>\n",
       "      <th>2.0</th>\n",
       "      <th>3.0</th>\n",
       "      <th>4.0</th>\n",
       "      <th>5.0</th>\n",
       "      <th>6.0</th>\n",
       "      <th>7.0</th>\n",
       "      <th>8.0</th>\n",
       "      <th>9.0</th>\n",
       "      <th>10.0</th>\n",
       "      <th>11.0</th>\n",
       "      <th>12.0</th>\n",
       "      <th>13.0</th>\n",
       "      <th>14.0</th>\n",
       "      <th>15.0</th>\n",
       "      <th>16.0</th>\n",
       "      <th>17.0</th>\n",
       "      <th>18.0</th>\n",
       "      <th>19.0</th>\n",
       "      <th>20.0</th>\n",
       "      <th>21.0</th>\n",
       "    </tr>\n",
       "    <tr>\n",
       "      <th>weekend_shopper</th>\n",
       "      <th></th>\n",
       "      <th></th>\n",
       "      <th></th>\n",
       "      <th></th>\n",
       "      <th></th>\n",
       "      <th></th>\n",
       "      <th></th>\n",
       "      <th></th>\n",
       "      <th></th>\n",
       "      <th></th>\n",
       "      <th></th>\n",
       "      <th></th>\n",
       "      <th></th>\n",
       "      <th></th>\n",
       "      <th></th>\n",
       "      <th></th>\n",
       "      <th></th>\n",
       "      <th></th>\n",
       "      <th></th>\n",
       "      <th></th>\n",
       "      <th></th>\n",
       "    </tr>\n",
       "  </thead>\n",
       "  <tbody>\n",
       "    <tr>\n",
       "      <th>False</th>\n",
       "      <td>0.064310</td>\n",
       "      <td>0.001761</td>\n",
       "      <td>0.037003</td>\n",
       "      <td>0.259564</td>\n",
       "      <td>0.016214</td>\n",
       "      <td>0.006681</td>\n",
       "      <td>0.134706</td>\n",
       "      <td>0.004489</td>\n",
       "      <td>0.016338</td>\n",
       "      <td>0.000861</td>\n",
       "      <td>0.017267</td>\n",
       "      <td>0.022091</td>\n",
       "      <td>0.046363</td>\n",
       "      <td>0.018501</td>\n",
       "      <td>0.018875</td>\n",
       "      <td>0.194297</td>\n",
       "      <td>0.029049</td>\n",
       "      <td>0.007255</td>\n",
       "      <td>0.075805</td>\n",
       "      <td>0.027852</td>\n",
       "      <td>0.000718</td>\n",
       "    </tr>\n",
       "    <tr>\n",
       "      <th>True</th>\n",
       "      <td>0.059711</td>\n",
       "      <td>0.001467</td>\n",
       "      <td>0.037995</td>\n",
       "      <td>0.294360</td>\n",
       "      <td>0.009632</td>\n",
       "      <td>0.006353</td>\n",
       "      <td>0.121891</td>\n",
       "      <td>0.003660</td>\n",
       "      <td>0.016175</td>\n",
       "      <td>0.001018</td>\n",
       "      <td>0.015174</td>\n",
       "      <td>0.024806</td>\n",
       "      <td>0.041188</td>\n",
       "      <td>0.018160</td>\n",
       "      <td>0.019265</td>\n",
       "      <td>0.200297</td>\n",
       "      <td>0.026118</td>\n",
       "      <td>0.006353</td>\n",
       "      <td>0.065960</td>\n",
       "      <td>0.029761</td>\n",
       "      <td>0.000656</td>\n",
       "    </tr>\n",
       "    <tr>\n",
       "      <th>All</th>\n",
       "      <td>0.062669</td>\n",
       "      <td>0.001656</td>\n",
       "      <td>0.037357</td>\n",
       "      <td>0.271976</td>\n",
       "      <td>0.013866</td>\n",
       "      <td>0.006564</td>\n",
       "      <td>0.130135</td>\n",
       "      <td>0.004193</td>\n",
       "      <td>0.016280</td>\n",
       "      <td>0.000917</td>\n",
       "      <td>0.016520</td>\n",
       "      <td>0.023059</td>\n",
       "      <td>0.044518</td>\n",
       "      <td>0.018380</td>\n",
       "      <td>0.019014</td>\n",
       "      <td>0.196437</td>\n",
       "      <td>0.028004</td>\n",
       "      <td>0.006933</td>\n",
       "      <td>0.072293</td>\n",
       "      <td>0.028533</td>\n",
       "      <td>0.000696</td>\n",
       "    </tr>\n",
       "  </tbody>\n",
       "</table>\n",
       "</div>"
      ],
      "text/plain": [
       "department_id         1.0       2.0       3.0       4.0       5.0       6.0  \\\n",
       "weekend_shopper                                                               \n",
       "False            0.064310  0.001761  0.037003  0.259564  0.016214  0.006681   \n",
       "True             0.059711  0.001467  0.037995  0.294360  0.009632  0.006353   \n",
       "All              0.062669  0.001656  0.037357  0.271976  0.013866  0.006564   \n",
       "\n",
       "department_id         7.0       8.0       9.0      10.0      11.0      12.0  \\\n",
       "weekend_shopper                                                               \n",
       "False            0.134706  0.004489  0.016338  0.000861  0.017267  0.022091   \n",
       "True             0.121891  0.003660  0.016175  0.001018  0.015174  0.024806   \n",
       "All              0.130135  0.004193  0.016280  0.000917  0.016520  0.023059   \n",
       "\n",
       "department_id        13.0      14.0      15.0      16.0      17.0      18.0  \\\n",
       "weekend_shopper                                                               \n",
       "False            0.046363  0.018501  0.018875  0.194297  0.029049  0.007255   \n",
       "True             0.041188  0.018160  0.019265  0.200297  0.026118  0.006353   \n",
       "All              0.044518  0.018380  0.019014  0.196437  0.028004  0.006933   \n",
       "\n",
       "department_id        19.0      20.0      21.0  \n",
       "weekend_shopper                                \n",
       "False            0.075805  0.027852  0.000718  \n",
       "True             0.065960  0.029761  0.000656  \n",
       "All              0.072293  0.028533  0.000696  "
      ]
     },
     "execution_count": 59,
     "metadata": {},
     "output_type": "execute_result"
    }
   ],
   "source": [
    "# Compare \"weekend shopper\" with \"department\"\n",
    "\n",
    "pd.crosstab(df_users['weekend_shopper'], df_users['department_id'], margins=True,  normalize='index')"
   ]
  },
  {
   "cell_type": "markdown",
   "id": "efee9f58",
   "metadata": {},
   "source": [
    "Again very similar distribution by region for the weekend shoppers. Perhaps surprisingly, a smaller percentage of weekend shopper's budget was spent in the alcohol department."
   ]
  },
  {
   "cell_type": "code",
   "execution_count": 60,
   "id": "d0e454f1",
   "metadata": {},
   "outputs": [
    {
     "data": {
      "text/html": [
       "<div>\n",
       "<style scoped>\n",
       "    .dataframe tbody tr th:only-of-type {\n",
       "        vertical-align: middle;\n",
       "    }\n",
       "\n",
       "    .dataframe tbody tr th {\n",
       "        vertical-align: top;\n",
       "    }\n",
       "\n",
       "    .dataframe thead th {\n",
       "        text-align: right;\n",
       "    }\n",
       "</style>\n",
       "<table border=\"1\" class=\"dataframe\">\n",
       "  <thead>\n",
       "    <tr style=\"text-align: right;\">\n",
       "      <th>region</th>\n",
       "      <th>Midwest</th>\n",
       "      <th>Northeast</th>\n",
       "      <th>South</th>\n",
       "      <th>West</th>\n",
       "    </tr>\n",
       "    <tr>\n",
       "      <th>late_night_shopper</th>\n",
       "      <th></th>\n",
       "      <th></th>\n",
       "      <th></th>\n",
       "      <th></th>\n",
       "    </tr>\n",
       "  </thead>\n",
       "  <tbody>\n",
       "    <tr>\n",
       "      <th>False</th>\n",
       "      <td>0.236155</td>\n",
       "      <td>0.175395</td>\n",
       "      <td>0.333357</td>\n",
       "      <td>0.255093</td>\n",
       "    </tr>\n",
       "    <tr>\n",
       "      <th>True</th>\n",
       "      <td>0.232365</td>\n",
       "      <td>0.182563</td>\n",
       "      <td>0.330687</td>\n",
       "      <td>0.254385</td>\n",
       "    </tr>\n",
       "    <tr>\n",
       "      <th>All</th>\n",
       "      <td>0.235973</td>\n",
       "      <td>0.175739</td>\n",
       "      <td>0.333229</td>\n",
       "      <td>0.255059</td>\n",
       "    </tr>\n",
       "  </tbody>\n",
       "</table>\n",
       "</div>"
      ],
      "text/plain": [
       "region               Midwest  Northeast     South      West\n",
       "late_night_shopper                                         \n",
       "False               0.236155   0.175395  0.333357  0.255093\n",
       "True                0.232365   0.182563  0.330687  0.254385\n",
       "All                 0.235973   0.175739  0.333229  0.255059"
      ]
     },
     "execution_count": 60,
     "metadata": {},
     "output_type": "execute_result"
    }
   ],
   "source": [
    "# Compare \"late night shopper\" with \"region\"\n",
    "\n",
    "pd.crosstab(df_users['late_night_shopper'], df_users['region'], margins=True,  normalize='index')"
   ]
  },
  {
   "cell_type": "code",
   "execution_count": 61,
   "id": "4b834e45",
   "metadata": {},
   "outputs": [
    {
     "data": {
      "text/html": [
       "<div>\n",
       "<style scoped>\n",
       "    .dataframe tbody tr th:only-of-type {\n",
       "        vertical-align: middle;\n",
       "    }\n",
       "\n",
       "    .dataframe tbody tr th {\n",
       "        vertical-align: top;\n",
       "    }\n",
       "\n",
       "    .dataframe thead th {\n",
       "        text-align: right;\n",
       "    }\n",
       "</style>\n",
       "<table border=\"1\" class=\"dataframe\">\n",
       "  <thead>\n",
       "    <tr style=\"text-align: right;\">\n",
       "      <th>department_id</th>\n",
       "      <th>1.0</th>\n",
       "      <th>2.0</th>\n",
       "      <th>3.0</th>\n",
       "      <th>4.0</th>\n",
       "      <th>5.0</th>\n",
       "      <th>6.0</th>\n",
       "      <th>7.0</th>\n",
       "      <th>8.0</th>\n",
       "      <th>9.0</th>\n",
       "      <th>10.0</th>\n",
       "      <th>11.0</th>\n",
       "      <th>12.0</th>\n",
       "      <th>13.0</th>\n",
       "      <th>14.0</th>\n",
       "      <th>15.0</th>\n",
       "      <th>16.0</th>\n",
       "      <th>17.0</th>\n",
       "      <th>18.0</th>\n",
       "      <th>19.0</th>\n",
       "      <th>20.0</th>\n",
       "      <th>21.0</th>\n",
       "    </tr>\n",
       "    <tr>\n",
       "      <th>late_night_shopper</th>\n",
       "      <th></th>\n",
       "      <th></th>\n",
       "      <th></th>\n",
       "      <th></th>\n",
       "      <th></th>\n",
       "      <th></th>\n",
       "      <th></th>\n",
       "      <th></th>\n",
       "      <th></th>\n",
       "      <th></th>\n",
       "      <th></th>\n",
       "      <th></th>\n",
       "      <th></th>\n",
       "      <th></th>\n",
       "      <th></th>\n",
       "      <th></th>\n",
       "      <th></th>\n",
       "      <th></th>\n",
       "      <th></th>\n",
       "      <th></th>\n",
       "      <th></th>\n",
       "    </tr>\n",
       "  </thead>\n",
       "  <tbody>\n",
       "    <tr>\n",
       "      <th>False</th>\n",
       "      <td>0.062772</td>\n",
       "      <td>0.001669</td>\n",
       "      <td>0.037476</td>\n",
       "      <td>0.270804</td>\n",
       "      <td>0.014223</td>\n",
       "      <td>0.006597</td>\n",
       "      <td>0.130448</td>\n",
       "      <td>0.004217</td>\n",
       "      <td>0.016157</td>\n",
       "      <td>0.000906</td>\n",
       "      <td>0.016519</td>\n",
       "      <td>0.023214</td>\n",
       "      <td>0.044448</td>\n",
       "      <td>0.018356</td>\n",
       "      <td>0.019061</td>\n",
       "      <td>0.196435</td>\n",
       "      <td>0.027974</td>\n",
       "      <td>0.006914</td>\n",
       "      <td>0.072513</td>\n",
       "      <td>0.028595</td>\n",
       "      <td>0.000699</td>\n",
       "    </tr>\n",
       "    <tr>\n",
       "      <th>True</th>\n",
       "      <td>0.060625</td>\n",
       "      <td>0.001410</td>\n",
       "      <td>0.034991</td>\n",
       "      <td>0.295181</td>\n",
       "      <td>0.006793</td>\n",
       "      <td>0.005896</td>\n",
       "      <td>0.123943</td>\n",
       "      <td>0.003717</td>\n",
       "      <td>0.018713</td>\n",
       "      <td>0.001154</td>\n",
       "      <td>0.016534</td>\n",
       "      <td>0.019995</td>\n",
       "      <td>0.045886</td>\n",
       "      <td>0.018841</td>\n",
       "      <td>0.018072</td>\n",
       "      <td>0.196488</td>\n",
       "      <td>0.028582</td>\n",
       "      <td>0.007306</td>\n",
       "      <td>0.067931</td>\n",
       "      <td>0.027301</td>\n",
       "      <td>0.000641</td>\n",
       "    </tr>\n",
       "    <tr>\n",
       "      <th>All</th>\n",
       "      <td>0.062669</td>\n",
       "      <td>0.001656</td>\n",
       "      <td>0.037357</td>\n",
       "      <td>0.271976</td>\n",
       "      <td>0.013866</td>\n",
       "      <td>0.006564</td>\n",
       "      <td>0.130135</td>\n",
       "      <td>0.004193</td>\n",
       "      <td>0.016280</td>\n",
       "      <td>0.000917</td>\n",
       "      <td>0.016520</td>\n",
       "      <td>0.023059</td>\n",
       "      <td>0.044518</td>\n",
       "      <td>0.018380</td>\n",
       "      <td>0.019014</td>\n",
       "      <td>0.196437</td>\n",
       "      <td>0.028004</td>\n",
       "      <td>0.006933</td>\n",
       "      <td>0.072293</td>\n",
       "      <td>0.028533</td>\n",
       "      <td>0.000696</td>\n",
       "    </tr>\n",
       "  </tbody>\n",
       "</table>\n",
       "</div>"
      ],
      "text/plain": [
       "department_id            1.0       2.0       3.0       4.0       5.0  \\\n",
       "late_night_shopper                                                     \n",
       "False               0.062772  0.001669  0.037476  0.270804  0.014223   \n",
       "True                0.060625  0.001410  0.034991  0.295181  0.006793   \n",
       "All                 0.062669  0.001656  0.037357  0.271976  0.013866   \n",
       "\n",
       "department_id            6.0       7.0       8.0       9.0      10.0  \\\n",
       "late_night_shopper                                                     \n",
       "False               0.006597  0.130448  0.004217  0.016157  0.000906   \n",
       "True                0.005896  0.123943  0.003717  0.018713  0.001154   \n",
       "All                 0.006564  0.130135  0.004193  0.016280  0.000917   \n",
       "\n",
       "department_id           11.0      12.0      13.0      14.0      15.0  \\\n",
       "late_night_shopper                                                     \n",
       "False               0.016519  0.023214  0.044448  0.018356  0.019061   \n",
       "True                0.016534  0.019995  0.045886  0.018841  0.018072   \n",
       "All                 0.016520  0.023059  0.044518  0.018380  0.019014   \n",
       "\n",
       "department_id           16.0      17.0      18.0      19.0      20.0      21.0  \n",
       "late_night_shopper                                                              \n",
       "False               0.196435  0.027974  0.006914  0.072513  0.028595  0.000699  \n",
       "True                0.196488  0.028582  0.007306  0.067931  0.027301  0.000641  \n",
       "All                 0.196437  0.028004  0.006933  0.072293  0.028533  0.000696  "
      ]
     },
     "execution_count": 61,
     "metadata": {},
     "output_type": "execute_result"
    }
   ],
   "source": [
    "# Compare \"late night shopper\" with \"department\"\n",
    "\n",
    "pd.crosstab(df_users['late_night_shopper'], df_users['department_id'], margins=True,  normalize='index')"
   ]
  },
  {
   "cell_type": "markdown",
   "id": "15e717bf",
   "metadata": {},
   "source": [
    "Finally, the Northeast sees a higher percentage of late night shopper profiles (so NYC truly really never sleeps). The late night shoppers spend a clearly lower percentage on alcohol and also less on snacks, which challenges my perception of would typically be ordered at that time of day. "
   ]
  },
  {
   "cell_type": "markdown",
   "id": "6bcaa9ab",
   "metadata": {},
   "source": [
    "# 10. Producing and exporting charts"
   ]
  },
  {
   "cell_type": "code",
   "execution_count": 62,
   "id": "b793e66c",
   "metadata": {},
   "outputs": [
    {
     "data": {
      "image/png": "[encoded data removed]",
      "text/plain": [
       "<Figure size 432x288 with 1 Axes>"
      ]
     },
     "metadata": {
      "needs_background": "light"
     },
     "output_type": "display_data"
    }
   ],
   "source": [
    "# Visualizing customer base by region as a bar chart\n",
    "\n",
    "bar_3 = df_users.groupby('region')['user_id'].nunique().plot.bar(title = 'Customers by region', xlabel = '')"
   ]
  },
  {
   "cell_type": "code",
   "execution_count": 63,
   "id": "4e7c4d24",
   "metadata": {},
   "outputs": [
    {
     "data": {
      "image/png": "[encoded data removed]",
      "text/plain": [
       "<Figure size 432x288 with 1 Axes>"
      ]
     },
     "metadata": {
      "needs_background": "light"
     },
     "output_type": "display_data"
    }
   ],
   "source": [
    "# Visualizing overall sales by department\n",
    "\n",
    "barh_1 = df.department_name.value_counts().sort_values().plot.barh(title = 'Sales by department', xlabel = '')"
   ]
  },
  {
   "cell_type": "code",
   "execution_count": 64,
   "id": "55df1f0c",
   "metadata": {
    "scrolled": true
   },
   "outputs": [
    {
     "data": {
      "text/plain": [
       "<matplotlib.legend.Legend at 0x7fb64a6515e0>"
      ]
     },
     "execution_count": 64,
     "metadata": {},
     "output_type": "execute_result"
    },
    {
     "data": {
      "image/png": "[encoded data removed]",
      "text/plain": [
       "<Figure size 432x288 with 1 Axes>"
      ]
     },
     "metadata": {
      "needs_background": "light"
     },
     "output_type": "display_data"
    }
   ],
   "source": [
    "# Visualizing customer income profiles by region as stacked bar chart\n",
    "\n",
    "region_income = pd.crosstab(df_users['region'], df_users['age_group'])\n",
    "stacked_1 = region_income.plot(kind = 'bar', stacked = True, title = 'Customer age group distribution by region', ylabel = 'Amount of customers', xlabel = '', colormap = 'summer')\n",
    "plt.legend([\"Middle age\", \"Senior\", \"Young adult\"])"
   ]
  },
  {
   "cell_type": "code",
   "execution_count": 65,
   "id": "ab0aaa10",
   "metadata": {},
   "outputs": [
    {
     "data": {
      "text/plain": [
       "<matplotlib.legend.Legend at 0x7fbe2a0dab80>"
      ]
     },
     "execution_count": 65,
     "metadata": {},
     "output_type": "execute_result"
    },
    {
     "data": {
      "image/png": "[encoded data removed]",
      "text/plain": [
       "<Figure size 432x288 with 1 Axes>"
      ]
     },
     "metadata": {
      "needs_background": "light"
     },
     "output_type": "display_data"
    }
   ],
   "source": [
    "# Visualizing age/region crosstab as regular bar chart\n",
    "\n",
    "region_age = pd.crosstab(df_users['region'], df_users['age_group'])\n",
    "bar_4 = region_age.plot(kind = 'bar', title = 'Age group distribution by region', ylabel = 'Amount of customers', xlabel = '', colormap = 'summer')\n",
    "plt.legend([\"Middle age\", \"Senior\", \"Young adult\"])"
   ]
  },
  {
   "cell_type": "code",
   "execution_count": 66,
   "id": "992c29a4",
   "metadata": {},
   "outputs": [
    {
     "data": {
      "text/plain": [
       "<matplotlib.legend.Legend at 0x7fbe2cd0a6a0>"
      ]
     },
     "execution_count": 66,
     "metadata": {},
     "output_type": "execute_result"
    },
    {
     "data": {
      "image/png": "[encoded data removed]",
      "text/plain": [
       "<Figure size 432x288 with 1 Axes>"
      ]
     },
     "metadata": {
      "needs_background": "light"
     },
     "output_type": "display_data"
    }
   ],
   "source": [
    "# Creating and visualizing crosstab of \"region\" and \"income_bracket\"\n",
    "\n",
    "region_income = pd.crosstab(df_users['region'], df_users['income_bracket'])\n",
    "stacked_2 = region_income.plot(kind = 'bar', stacked = True, title = 'Customer income distribution by region', ylabel = 'Amount of customers', xlabel = '')\n",
    "plt.legend([\"High income\", \"Low income\", \"Middle income\"])"
   ]
  },
  {
   "cell_type": "code",
   "execution_count": 67,
   "id": "d9de7e11",
   "metadata": {},
   "outputs": [
    {
     "data": {
      "text/plain": [
       "<matplotlib.legend.Legend at 0x7fbe2cd3e250>"
      ]
     },
     "execution_count": 67,
     "metadata": {},
     "output_type": "execute_result"
    },
    {
     "data": {
      "image/png": "[encoded data removed]",
      "text/plain": [
       "<Figure size 432x288 with 1 Axes>"
      ]
     },
     "metadata": {
      "needs_background": "light"
     },
     "output_type": "display_data"
    }
   ],
   "source": [
    "# Creating and visualizing a crosstab of \"income bracket\" and \"customer frequency\"\n",
    "\n",
    "income_frequency = pd.crosstab(df_users['income_bracket'], df_users['customer_frequency_flag'])\n",
    "stacked_3 = income_frequency.plot(kind = 'bar', stacked = True, title = 'Order frequency by income bracket', ylabel = 'Amount of customers', xlabel = '')\n",
    "plt.legend([\"Frequent customer\", \"Non-frequent customer\", \"Regular customer\"])"
   ]
  },
  {
   "cell_type": "code",
   "execution_count": 68,
   "id": "62c3ff5d",
   "metadata": {},
   "outputs": [
    {
     "data": {
      "text/plain": [
       "<matplotlib.legend.Legend at 0x7fbabc943e80>"
      ]
     },
     "execution_count": 68,
     "metadata": {},
     "output_type": "execute_result"
    },
    {
     "data": {
      "image/png": "[encoded data removed]",
      "text/plain": [
       "<Figure size 432x288 with 1 Axes>"
      ]
     },
     "metadata": {
      "needs_background": "light"
     },
     "output_type": "display_data"
    }
   ],
   "source": [
    "# Creating a horizontal bar chart of weekend customer profiles\n",
    "\n",
    "income_frequency = pd.crosstab(df_users.region, df_users.weekend_shopper)\n",
    "barh_2 = income_frequency.plot(kind = 'barh', title = 'Customers shopping on weekends', ylabel = 'Amount of customers', xlabel = '', colormap = 'Paired')\n",
    "plt.legend([\"Weekday shopper only\", \"Weekend shopper\"])"
   ]
  },
  {
   "cell_type": "code",
   "execution_count": 69,
   "id": "e5c3e201",
   "metadata": {},
   "outputs": [
    {
     "data": {
      "text/plain": [
       "<matplotlib.legend.Legend at 0x7fbe2af86ee0>"
      ]
     },
     "execution_count": 69,
     "metadata": {},
     "output_type": "execute_result"
    },
    {
     "data": {
      "image/png": "[encoded data removed]",
      "text/plain": [
       "<Figure size 432x288 with 1 Axes>"
      ]
     },
     "metadata": {
      "needs_background": "light"
     },
     "output_type": "display_data"
    }
   ],
   "source": [
    "# Creating a horizontal bar chart of customers shopping late night\n",
    "\n",
    "income_frequency = pd.crosstab(df_users.region, df_users.late_night_shopper)\n",
    "barh_3 = income_frequency.plot(kind = 'barh', title = 'Customers shopping late night', ylabel = 'Amount of customers', xlabel = '', colormap = 'Paired')\n",
    "plt.legend([\"Does not shop at night\", \"Shops at night\"])"
   ]
  },
  {
   "cell_type": "code",
   "execution_count": 70,
   "id": "e19ed7c4",
   "metadata": {},
   "outputs": [
    {
     "data": {
      "text/plain": [
       "<matplotlib.legend.Legend at 0x7fbe2af86f70>"
      ]
     },
     "execution_count": 70,
     "metadata": {},
     "output_type": "execute_result"
    },
    {
     "data": {
      "image/png": "[encoded data removed]",
      "text/plain": [
       "<Figure size 432x288 with 1 Axes>"
      ]
     },
     "metadata": {
      "needs_background": "light"
     },
     "output_type": "display_data"
    }
   ],
   "source": [
    "# Visualizing family groups that shop on weekends \n",
    "\n",
    "marital_weekend = pd.crosstab(df_users.marital_status, df_users.weekend_shopper)\n",
    "stacked_4 = marital_weekend.plot(kind = 'bar', stacked = True, title = 'Groups shopping on weekends', ylabel = 'Amount of customers', xlabel = '', colormap = 'Paired')\n",
    "plt.legend([\"Does not shop on weekends\", \"Shops on weekends\"])"
   ]
  },
  {
   "cell_type": "code",
   "execution_count": 71,
   "id": "239c9b95",
   "metadata": {},
   "outputs": [
    {
     "data": {
      "text/plain": [
       "<matplotlib.legend.Legend at 0x7fb64ce59910>"
      ]
     },
     "execution_count": 71,
     "metadata": {},
     "output_type": "execute_result"
    },
    {
     "data": {
      "image/png": "[encoded data removed]",
      "text/plain": [
       "<Figure size 432x288 with 1 Axes>"
      ]
     },
     "metadata": {
      "needs_background": "light"
     },
     "output_type": "display_data"
    }
   ],
   "source": [
    "# Visualizing family groups that shop at night\n",
    "\n",
    "marital_night = pd.crosstab(df_users.marital_status, df_users.late_night_shopper)\n",
    "stacked_5 = marital_night.plot(kind = 'bar', stacked = True, title = 'Groups shopping at night', ylabel = 'Amount of customers', xlabel = '', colormap = 'Paired')\n",
    "plt.legend([\"Does not shop at night\", \"Shops at night\"])"
   ]
  },
  {
   "cell_type": "code",
   "execution_count": 72,
   "id": "0fa4252c",
   "metadata": {},
   "outputs": [
    {
     "data": {
      "text/plain": [
       "<matplotlib.legend.Legend at 0x7fb64b0f2f70>"
      ]
     },
     "execution_count": 72,
     "metadata": {},
     "output_type": "execute_result"
    },
    {
     "data": {
      "image/png": "[encoded data removed]",
      "text/plain": [
       "<Figure size 432x288 with 1 Axes>"
      ]
     },
     "metadata": {
      "needs_background": "light"
     },
     "output_type": "display_data"
    }
   ],
   "source": [
    "# Visualizing baby_household/region crosstab as stacked bar chart\n",
    "\n",
    "region_age = pd.crosstab(df_users['region'], df_users['baby_household'])\n",
    "stacked_6 = region_age.plot(kind = 'bar', stacked = True, title = 'Customers ordering baby products by region', ylabel = 'Amount of customers', xlabel = '', colormap = 'Wistia')\n",
    "plt.legend([\"Does not buy baby products\", \"Buys baby products\"])"
   ]
  },
  {
   "cell_type": "code",
   "execution_count": 73,
   "id": "18d00558",
   "metadata": {},
   "outputs": [
    {
     "data": {
      "text/plain": [
       "<AxesSubplot:xlabel='income', ylabel='median_order_frequency'>"
      ]
     },
     "execution_count": 73,
     "metadata": {},
     "output_type": "execute_result"
    },
    {
     "data": {
      "image/png": "[encoded data removed]",
      "text/plain": [
       "<Figure size 432x288 with 1 Axes>"
      ]
     },
     "metadata": {
      "needs_background": "light"
     },
     "output_type": "display_data"
    }
   ],
   "source": [
    "# Creating scatterplot to explore correlation between income and order frequency\n",
    "\n",
    "sns.scatterplot(y = 'median_order_frequency', x = 'income', data = df_users)"
   ]
  },
  {
   "cell_type": "code",
   "execution_count": 74,
   "id": "aee51067",
   "metadata": {},
   "outputs": [
    {
     "data": {
      "image/png": "[encoded data removed]",
      "text/plain": [
       "<Figure size 432x288 with 1 Axes>"
      ]
     },
     "metadata": {
      "needs_background": "light"
     },
     "output_type": "display_data"
    }
   ],
   "source": [
    "# Creating bar chart of total orders per weekday\n",
    "\n",
    "bar_5 = df['order_day_of_week'].value_counts().sort_index().plot.bar()"
   ]
  },
  {
   "cell_type": "code",
   "execution_count": 75,
   "id": "3387cf3e",
   "metadata": {},
   "outputs": [
    {
     "data": {
      "text/plain": [
       "<matplotlib.legend.Legend at 0x7fbed6f798b0>"
      ]
     },
     "execution_count": 75,
     "metadata": {},
     "output_type": "execute_result"
    },
    {
     "data": {
      "image/png": "[encoded data removed]",
      "text/plain": [
       "<Figure size 432x288 with 1 Axes>"
      ]
     },
     "metadata": {
      "needs_background": "light"
     },
     "output_type": "display_data"
    }
   ],
   "source": [
    "# Creating and visualizing crosstab of customer loyalty and order frequency\n",
    "\n",
    "loyalty_frequency = pd.crosstab(df_users['loyalty_flag'], df_users['customer_frequency_flag'])\n",
    "stacked_6 = loyalty_frequency.plot(kind = 'bar', stacked = True, title = 'Order frequency by loyalty', ylabel = 'Amount of customers', xlabel = '')\n",
    "plt.legend([\"Frequent customer\", \"Non-frequent customer\", \"Regular customer\"])"
   ]
  },
  {
   "cell_type": "code",
   "execution_count": 76,
   "id": "902ab8a1",
   "metadata": {},
   "outputs": [
    {
     "data": {
      "text/plain": [
       "<matplotlib.legend.Legend at 0x7fb64cc85ca0>"
      ]
     },
     "execution_count": 76,
     "metadata": {},
     "output_type": "execute_result"
    },
    {
     "data": {
      "image/png": "[encoded data removed]",
      "text/plain": [
       "<Figure size 432x288 with 1 Axes>"
      ]
     },
     "metadata": {
      "needs_background": "light"
     },
     "output_type": "display_data"
    }
   ],
   "source": [
    "# Creating and visualizing crosstab of age group and customer frequency\n",
    "\n",
    "age_frequency = pd.crosstab(df_users['age_group'], df_users['customer_frequency_flag'])\n",
    "stacked_7 = age_frequency.plot(kind = 'bar', stacked = True, title = 'Order frequency by age', ylabel = 'Amount of customers', xlabel = '')\n",
    "plt.legend([\"Frequent customer\", \"Non-frequent customer\", \"Regular customer\"])"
   ]
  },
  {
   "cell_type": "code",
   "execution_count": 77,
   "id": "3a498afb",
   "metadata": {},
   "outputs": [
    {
     "data": {
      "text/plain": [
       "<matplotlib.legend.Legend at 0x7fbabb22c070>"
      ]
     },
     "execution_count": 77,
     "metadata": {},
     "output_type": "execute_result"
    },
    {
     "data": {
      "image/png": "[encoded data removed]",
      "text/plain": [
       "<Figure size 432x288 with 1 Axes>"
      ]
     },
     "metadata": {
      "needs_background": "light"
     },
     "output_type": "display_data"
    }
   ],
   "source": [
    "# Creating and visualizing crosstab of family status and customer frequency\n",
    "\n",
    "family_frequency = pd.crosstab(df_users['marital_status'], df_users['customer_frequency_flag'])\n",
    "stacked_8 = family_frequency.plot(kind = 'bar', stacked = True, title = 'Order frequency by family status', ylabel = 'Amount of customers', xlabel = '')\n",
    "plt.legend([\"Frequent customer\", \"Non-frequent customer\", \"Regular customer\"])"
   ]
  },
  {
   "cell_type": "code",
   "execution_count": 78,
   "id": "db64db57",
   "metadata": {},
   "outputs": [
    {
     "data": {
      "text/html": [
       "<div>\n",
       "<style scoped>\n",
       "    .dataframe tbody tr th:only-of-type {\n",
       "        vertical-align: middle;\n",
       "    }\n",
       "\n",
       "    .dataframe tbody tr th {\n",
       "        vertical-align: top;\n",
       "    }\n",
       "\n",
       "    .dataframe thead th {\n",
       "        text-align: right;\n",
       "    }\n",
       "</style>\n",
       "<table border=\"1\" class=\"dataframe\">\n",
       "  <thead>\n",
       "    <tr style=\"text-align: right;\">\n",
       "      <th></th>\n",
       "      <th>order_id</th>\n",
       "      <th>user_id</th>\n",
       "      <th>order_number</th>\n",
       "      <th>order_day_of_week</th>\n",
       "      <th>order_hour_of_day</th>\n",
       "      <th>days_since_prior_order</th>\n",
       "      <th>product_id</th>\n",
       "      <th>add_to_cart_order</th>\n",
       "      <th>reordered</th>\n",
       "      <th>product_name</th>\n",
       "      <th>aisle_id</th>\n",
       "      <th>department_id</th>\n",
       "      <th>prices</th>\n",
       "      <th>price_range_loc</th>\n",
       "      <th>busiest_day</th>\n",
       "      <th>busiest_day_2</th>\n",
       "      <th>busiest_period_of_day</th>\n",
       "      <th>max_order</th>\n",
       "      <th>loyalty_flag</th>\n",
       "      <th>spender_type</th>\n",
       "      <th>spending_flag</th>\n",
       "      <th>median_order_frequency</th>\n",
       "      <th>customer_frequency_flag</th>\n",
       "      <th>gender</th>\n",
       "      <th>state</th>\n",
       "      <th>age</th>\n",
       "      <th>date_joined</th>\n",
       "      <th>number_of_dependents</th>\n",
       "      <th>marital_status</th>\n",
       "      <th>income</th>\n",
       "      <th>department_name</th>\n",
       "      <th>region</th>\n",
       "      <th>income_bracket</th>\n",
       "      <th>age_group</th>\n",
       "      <th>dependent_status</th>\n",
       "      <th>baby_household</th>\n",
       "      <th>weekend_shopper</th>\n",
       "      <th>late_night_shopper</th>\n",
       "    </tr>\n",
       "  </thead>\n",
       "  <tbody>\n",
       "    <tr>\n",
       "      <th>0</th>\n",
       "      <td>2539329</td>\n",
       "      <td>1</td>\n",
       "      <td>1</td>\n",
       "      <td>2</td>\n",
       "      <td>8</td>\n",
       "      <td>NaN</td>\n",
       "      <td>196</td>\n",
       "      <td>1</td>\n",
       "      <td>0</td>\n",
       "      <td>Soda</td>\n",
       "      <td>77.0</td>\n",
       "      <td>7.0</td>\n",
       "      <td>9.0</td>\n",
       "      <td>Mid range product</td>\n",
       "      <td>Regularly busy</td>\n",
       "      <td>Regular days</td>\n",
       "      <td>Average orders</td>\n",
       "      <td>10</td>\n",
       "      <td>New customer</td>\n",
       "      <td>6.367797</td>\n",
       "      <td>Low spender</td>\n",
       "      <td>20.5</td>\n",
       "      <td>Non-frequent customer</td>\n",
       "      <td>Female</td>\n",
       "      <td>Alabama</td>\n",
       "      <td>31</td>\n",
       "      <td>2/17/2019</td>\n",
       "      <td>3</td>\n",
       "      <td>married</td>\n",
       "      <td>40423</td>\n",
       "      <td>beverages</td>\n",
       "      <td>South</td>\n",
       "      <td>Middle income</td>\n",
       "      <td>Middle age</td>\n",
       "      <td>Dependents</td>\n",
       "      <td>False</td>\n",
       "      <td>False</td>\n",
       "      <td>False</td>\n",
       "    </tr>\n",
       "    <tr>\n",
       "      <th>1</th>\n",
       "      <td>2539329</td>\n",
       "      <td>1</td>\n",
       "      <td>1</td>\n",
       "      <td>2</td>\n",
       "      <td>8</td>\n",
       "      <td>NaN</td>\n",
       "      <td>14084</td>\n",
       "      <td>2</td>\n",
       "      <td>0</td>\n",
       "      <td>Organic Unsweetened Vanilla Almond Milk</td>\n",
       "      <td>91.0</td>\n",
       "      <td>16.0</td>\n",
       "      <td>12.5</td>\n",
       "      <td>Mid range product</td>\n",
       "      <td>Regularly busy</td>\n",
       "      <td>Regular days</td>\n",
       "      <td>Average orders</td>\n",
       "      <td>10</td>\n",
       "      <td>New customer</td>\n",
       "      <td>6.367797</td>\n",
       "      <td>Low spender</td>\n",
       "      <td>20.5</td>\n",
       "      <td>Non-frequent customer</td>\n",
       "      <td>Female</td>\n",
       "      <td>Alabama</td>\n",
       "      <td>31</td>\n",
       "      <td>2/17/2019</td>\n",
       "      <td>3</td>\n",
       "      <td>married</td>\n",
       "      <td>40423</td>\n",
       "      <td>dairy eggs</td>\n",
       "      <td>South</td>\n",
       "      <td>Middle income</td>\n",
       "      <td>Middle age</td>\n",
       "      <td>Dependents</td>\n",
       "      <td>False</td>\n",
       "      <td>False</td>\n",
       "      <td>False</td>\n",
       "    </tr>\n",
       "    <tr>\n",
       "      <th>2</th>\n",
       "      <td>2539329</td>\n",
       "      <td>1</td>\n",
       "      <td>1</td>\n",
       "      <td>2</td>\n",
       "      <td>8</td>\n",
       "      <td>NaN</td>\n",
       "      <td>12427</td>\n",
       "      <td>3</td>\n",
       "      <td>0</td>\n",
       "      <td>Original Beef Jerky</td>\n",
       "      <td>23.0</td>\n",
       "      <td>19.0</td>\n",
       "      <td>4.4</td>\n",
       "      <td>Low range product</td>\n",
       "      <td>Regularly busy</td>\n",
       "      <td>Regular days</td>\n",
       "      <td>Average orders</td>\n",
       "      <td>10</td>\n",
       "      <td>New customer</td>\n",
       "      <td>6.367797</td>\n",
       "      <td>Low spender</td>\n",
       "      <td>20.5</td>\n",
       "      <td>Non-frequent customer</td>\n",
       "      <td>Female</td>\n",
       "      <td>Alabama</td>\n",
       "      <td>31</td>\n",
       "      <td>2/17/2019</td>\n",
       "      <td>3</td>\n",
       "      <td>married</td>\n",
       "      <td>40423</td>\n",
       "      <td>snacks</td>\n",
       "      <td>South</td>\n",
       "      <td>Middle income</td>\n",
       "      <td>Middle age</td>\n",
       "      <td>Dependents</td>\n",
       "      <td>False</td>\n",
       "      <td>False</td>\n",
       "      <td>False</td>\n",
       "    </tr>\n",
       "    <tr>\n",
       "      <th>3</th>\n",
       "      <td>2539329</td>\n",
       "      <td>1</td>\n",
       "      <td>1</td>\n",
       "      <td>2</td>\n",
       "      <td>8</td>\n",
       "      <td>NaN</td>\n",
       "      <td>26088</td>\n",
       "      <td>4</td>\n",
       "      <td>0</td>\n",
       "      <td>Aged White Cheddar Popcorn</td>\n",
       "      <td>23.0</td>\n",
       "      <td>19.0</td>\n",
       "      <td>4.7</td>\n",
       "      <td>Low range product</td>\n",
       "      <td>Regularly busy</td>\n",
       "      <td>Regular days</td>\n",
       "      <td>Average orders</td>\n",
       "      <td>10</td>\n",
       "      <td>New customer</td>\n",
       "      <td>6.367797</td>\n",
       "      <td>Low spender</td>\n",
       "      <td>20.5</td>\n",
       "      <td>Non-frequent customer</td>\n",
       "      <td>Female</td>\n",
       "      <td>Alabama</td>\n",
       "      <td>31</td>\n",
       "      <td>2/17/2019</td>\n",
       "      <td>3</td>\n",
       "      <td>married</td>\n",
       "      <td>40423</td>\n",
       "      <td>snacks</td>\n",
       "      <td>South</td>\n",
       "      <td>Middle income</td>\n",
       "      <td>Middle age</td>\n",
       "      <td>Dependents</td>\n",
       "      <td>False</td>\n",
       "      <td>False</td>\n",
       "      <td>False</td>\n",
       "    </tr>\n",
       "    <tr>\n",
       "      <th>4</th>\n",
       "      <td>2539329</td>\n",
       "      <td>1</td>\n",
       "      <td>1</td>\n",
       "      <td>2</td>\n",
       "      <td>8</td>\n",
       "      <td>NaN</td>\n",
       "      <td>26405</td>\n",
       "      <td>5</td>\n",
       "      <td>0</td>\n",
       "      <td>XL Pick-A-Size Paper Towel Rolls</td>\n",
       "      <td>54.0</td>\n",
       "      <td>17.0</td>\n",
       "      <td>1.0</td>\n",
       "      <td>Low range product</td>\n",
       "      <td>Regularly busy</td>\n",
       "      <td>Regular days</td>\n",
       "      <td>Average orders</td>\n",
       "      <td>10</td>\n",
       "      <td>New customer</td>\n",
       "      <td>6.367797</td>\n",
       "      <td>Low spender</td>\n",
       "      <td>20.5</td>\n",
       "      <td>Non-frequent customer</td>\n",
       "      <td>Female</td>\n",
       "      <td>Alabama</td>\n",
       "      <td>31</td>\n",
       "      <td>2/17/2019</td>\n",
       "      <td>3</td>\n",
       "      <td>married</td>\n",
       "      <td>40423</td>\n",
       "      <td>household</td>\n",
       "      <td>South</td>\n",
       "      <td>Middle income</td>\n",
       "      <td>Middle age</td>\n",
       "      <td>Dependents</td>\n",
       "      <td>False</td>\n",
       "      <td>False</td>\n",
       "      <td>False</td>\n",
       "    </tr>\n",
       "  </tbody>\n",
       "</table>\n",
       "</div>"
      ],
      "text/plain": [
       "   order_id user_id  order_number  order_day_of_week  order_hour_of_day  \\\n",
       "0   2539329       1             1                  2                  8   \n",
       "1   2539329       1             1                  2                  8   \n",
       "2   2539329       1             1                  2                  8   \n",
       "3   2539329       1             1                  2                  8   \n",
       "4   2539329       1             1                  2                  8   \n",
       "\n",
       "   days_since_prior_order  product_id  add_to_cart_order  reordered  \\\n",
       "0                     NaN         196                  1          0   \n",
       "1                     NaN       14084                  2          0   \n",
       "2                     NaN       12427                  3          0   \n",
       "3                     NaN       26088                  4          0   \n",
       "4                     NaN       26405                  5          0   \n",
       "\n",
       "                              product_name  aisle_id  department_id  prices  \\\n",
       "0                                     Soda      77.0            7.0     9.0   \n",
       "1  Organic Unsweetened Vanilla Almond Milk      91.0           16.0    12.5   \n",
       "2                      Original Beef Jerky      23.0           19.0     4.4   \n",
       "3               Aged White Cheddar Popcorn      23.0           19.0     4.7   \n",
       "4         XL Pick-A-Size Paper Towel Rolls      54.0           17.0     1.0   \n",
       "\n",
       "     price_range_loc     busiest_day busiest_day_2 busiest_period_of_day  \\\n",
       "0  Mid range product  Regularly busy  Regular days        Average orders   \n",
       "1  Mid range product  Regularly busy  Regular days        Average orders   \n",
       "2  Low range product  Regularly busy  Regular days        Average orders   \n",
       "3  Low range product  Regularly busy  Regular days        Average orders   \n",
       "4  Low range product  Regularly busy  Regular days        Average orders   \n",
       "\n",
       "   max_order  loyalty_flag  spender_type spending_flag  \\\n",
       "0         10  New customer      6.367797   Low spender   \n",
       "1         10  New customer      6.367797   Low spender   \n",
       "2         10  New customer      6.367797   Low spender   \n",
       "3         10  New customer      6.367797   Low spender   \n",
       "4         10  New customer      6.367797   Low spender   \n",
       "\n",
       "   median_order_frequency customer_frequency_flag  gender    state  age  \\\n",
       "0                    20.5   Non-frequent customer  Female  Alabama   31   \n",
       "1                    20.5   Non-frequent customer  Female  Alabama   31   \n",
       "2                    20.5   Non-frequent customer  Female  Alabama   31   \n",
       "3                    20.5   Non-frequent customer  Female  Alabama   31   \n",
       "4                    20.5   Non-frequent customer  Female  Alabama   31   \n",
       "\n",
       "  date_joined  number_of_dependents marital_status  income department_name  \\\n",
       "0   2/17/2019                     3        married   40423       beverages   \n",
       "1   2/17/2019                     3        married   40423      dairy eggs   \n",
       "2   2/17/2019                     3        married   40423          snacks   \n",
       "3   2/17/2019                     3        married   40423          snacks   \n",
       "4   2/17/2019                     3        married   40423       household   \n",
       "\n",
       "  region income_bracket   age_group dependent_status  baby_household  \\\n",
       "0  South  Middle income  Middle age       Dependents           False   \n",
       "1  South  Middle income  Middle age       Dependents           False   \n",
       "2  South  Middle income  Middle age       Dependents           False   \n",
       "3  South  Middle income  Middle age       Dependents           False   \n",
       "4  South  Middle income  Middle age       Dependents           False   \n",
       "\n",
       "   weekend_shopper  late_night_shopper  \n",
       "0            False               False  \n",
       "1            False               False  \n",
       "2            False               False  \n",
       "3            False               False  \n",
       "4            False               False  "
      ]
     },
     "execution_count": 78,
     "metadata": {},
     "output_type": "execute_result"
    }
   ],
   "source": [
    "df.head()"
   ]
  },
  {
   "cell_type": "code",
   "execution_count": 79,
   "id": "f6353328",
   "metadata": {},
   "outputs": [],
   "source": [
    "# Export charts to project folder\n",
    "\n",
    "bar_1.figure.savefig(os.path.join(path, '04 Analysis', 'Visualizations', 'income_bracket_profile.png'), bbox_inches = \"tight\")\n",
    "bar_2.figure.savefig(os.path.join(path, '04 Analysis', 'Visualizations', 'age_group_profile.png'), bbox_inches = \"tight\")\n",
    "pie_1.figure.savefig(os.path.join(path, '04 Analysis', 'Visualizations', 'dependent_status_profile.png'), bbox_inches = \"tight\")\n",
    "pie_2.figure.savefig(os.path.join(path, '04 Analysis', 'Visualizations', 'baby_household_profile.png'), bbox_inches = \"tight\")\n",
    "pie_3.figure.savefig(os.path.join(path, '04 Analysis', 'Visualizations', 'weekend_shopper_profile.png'), bbox_inches = \"tight\")\n",
    "pie_4.figure.savefig(os.path.join(path, '04 Analysis', 'Visualizations', 'late_night_profile.png'), bbox_inches = \"tight\")\n",
    "bar_3.figure.savefig(os.path.join(path, '04 Analysis', 'Visualizations', 'customers_by_region.png'), bbox_inches = \"tight\")\n",
    "stacked_1.figure.savefig(os.path.join(path, '04 Analysis', 'Visualizations', 'age_region_dist_stacked.png'), bbox_inches = \"tight\")\n",
    "barh_1.figure.savefig(os.path.join(path, '04 Analysis', 'Visualizations', 'sales_by_department.png'), bbox_inches = \"tight\")\n",
    "bar_4.figure.savefig(os.path.join(path, '04 Analysis', 'Visualizations', 'age_region_dist_bar.png'), bbox_inches = \"tight\")\n",
    "stacked_2.figure.savefig(os.path.join(path, '04 Analysis', 'Visualizations', 'order_frequency_region.png'), bbox_inches = \"tight\")\n",
    "stacked_3.figure.savefig(os.path.join(path, '04 Analysis', 'Visualizations', 'order_frequency_income.png'), bbox_inches = \"tight\")\n",
    "barh_2.figure.savefig(os.path.join(path, '04 Analysis', 'Visualizations', 'customers_weekend.png'), bbox_inches = \"tight\")\n",
    "barh_3.figure.savefig(os.path.join(path, '04 Analysis', 'Visualizations', 'customers_night.png'), bbox_inches = \"tight\")\n",
    "stacked_4.figure.savefig(os.path.join(path, '04 Analysis', 'Visualizations', 'groups_shopping_weekends.png'), bbox_inches = \"tight\")\n",
    "stacked_5.figure.savefig(os.path.join(path, '04 Analysis', 'Visualizations', 'groups_shopping_nights.png'), bbox_inches = \"tight\")\n",
    "stacked_6.figure.savefig(os.path.join(path, '04 Analysis', 'Visualizations', 'baby_households_region.png'),bbox_inches = \"tight\")\n",
    "bar_5.figure.savefig(os.path.join(path, '04 Analysis', 'Visualizations', 'orders_per_day.png'), bbox_inches = \"tight\")\n",
    "stacked_6.figure.savefig(os.path.join(path, '04 Analysis', 'Visualizations', 'order_frequency_by_loyalty.png'), bbox_inches = \"tight\")\n",
    "stacked_7.figure.savefig(os.path.join(path, '04 Analysis', 'Visualizations', 'order_frequency_by_age.png'), bbox_inches = \"tight\")\n",
    "stacked_8.figure.savefig(os.path.join(path, '04 Analysis', 'Visualizations', 'order_frequency_by_family.png'), bbox_inches = \"tight\")"
   ]
  },
  {
   "cell_type": "markdown",
   "id": "e6d4b1ba",
   "metadata": {},
   "source": [
    "# 11. Exporting dataset"
   ]
  },
  {
   "cell_type": "code",
   "execution_count": 80,
   "id": "8a9aaeda",
   "metadata": {},
   "outputs": [],
   "source": [
    "df.to_pickle(os.path.join(path, '02 Data', 'Prepared Data', 'orders_products_all.pkl'))\n",
    "df_users.to_pickle(os.path.join(path, '02 Data', 'Prepared Data', 'df_users410'))"
   ]
  }
 ],
 "metadata": {
  "kernelspec": {
   "display_name": "Python 3 (ipykernel)",
   "language": "python",
   "name": "python3"
  },
  "language_info": {
   "codemirror_mode": {
    "name": "ipython",
    "version": 3
   },
   "file_extension": ".py",
   "mimetype": "text/x-python",
   "name": "python",
   "nbconvert_exporter": "python",
   "pygments_lexer": "ipython3",
   "version": "3.9.12"
  }
 },
 "nbformat": 4,
 "nbformat_minor": 5
}
